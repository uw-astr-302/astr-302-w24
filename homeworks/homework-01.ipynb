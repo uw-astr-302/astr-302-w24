{
 "cells": [
  {
   "cell_type": "markdown",
   "metadata": {
    "slideshow": {
     "slide_type": "skip"
    }
   },
   "source": [
    "Some helper functions to make it easier to show code listings."
   ]
  },
  {
   "cell_type": "code",
   "execution_count": 1,
   "metadata": {
    "slideshow": {
     "slide_type": "skip"
    }
   },
   "outputs": [],
   "source": [
    "def show_code_listing(fn):\n",
    "    from IPython.display import display, Markdown\n",
    "    return Markdown( '```python\\n{}\\n```'.format(open(fn).read()))\n",
    "\n",
    "def execute_and_show(cmdline):\n",
    "    from IPython.display import display, Markdown\n",
    "    res = ! $cmdline\n",
    "    res = '\\n'.join(['    ' + line for line in res])\n",
    "    print('```bash\\n    ${}\\n{}\\n```'.format(cmdline, res))"
   ]
  },
  {
   "cell_type": "markdown",
   "metadata": {
    "collapsed": true,
    "slideshow": {
     "slide_type": "slide"
    }
   },
   "source": [
    "## Object Oriented Programming\n",
    "\n",
    "(read https://realpython.com/python3-object-oriented-programming/ for details)\n",
    "\n",
    "Terminology:\n",
    "* What is an ***object***? A collection of logically related data and functions that manipulate those data (called ***methods***).\n",
    "* What is a ***class***? Classes can be thought of as blueprints for creating objects. It specifies which data the object should contain, and what methods will there be to manipulate those data. But a class does not create the object itself.\n",
    "\n",
    "A real-world analogy may be that of a _car_ (a class), and a 2015 Ford Mustang (an _instance_ of a car -- the object).\n",
    "\n",
    "An example in Python:"
   ]
  },
  {
   "cell_type": "code",
   "execution_count": 2,
   "metadata": {},
   "outputs": [
    {
     "name": "stdout",
     "output_type": "stream",
     "text": [
      "Ford Mustang 4 7900.0 20000.0\n",
      "Hyundai Elantra 4 5500.0 20000.0\n"
     ]
    }
   ],
   "source": [
    "class Car:\n",
    "    \"\"\"A car for sale by Jeffco Car Dealership.\n",
    "\n",
    "    Attributes:\n",
    "        wheels: An integer representing the number of wheels the car has.\n",
    "        miles: The integral number of miles driven on the car.\n",
    "        make: The make of the car as a string.\n",
    "        model: The model of the car as a string.\n",
    "        year: The integral year the car was built.\n",
    "    \"\"\"\n",
    "\n",
    "    def __init__(self, wheels, miles, make, model, year):\n",
    "        \"\"\"Return a new Car object.\"\"\"\n",
    "        self.wheels = wheels\n",
    "        self.miles = miles\n",
    "        self.make = make\n",
    "        self.model = model\n",
    "        self.year = year\n",
    "\n",
    "    def sale_price(self):\n",
    "        \"\"\"Return the sale price for this car as a float amount.\"\"\"\n",
    "        return 5000.0 * self.wheels\n",
    "\n",
    "    def purchase_price(self):\n",
    "        \"\"\"Return the price for which we would pay to purchase the car.\"\"\"\n",
    "        return 8000 - (.10 * self.miles)\n",
    "\n",
    "mustang = Car(4, 1000, 'Ford', 'Mustang', 2015)\n",
    "elantra = Car(4, 25000, 'Hyundai', 'Elantra', 2011)\n",
    "\n",
    "print(mustang.make, mustang.model, mustang.wheels, mustang.purchase_price(), mustang.sale_price())\n",
    "print(elantra.make, elantra.model, elantra.wheels, elantra.purchase_price(), elantra.sale_price())"
   ]
  },
  {
   "cell_type": "markdown",
   "metadata": {},
   "source": [
    "Things to note:\n",
    "* We define classes with the 'class' keyword.\n",
    "* Functions defined within a class are known as `methods`\n",
    "\n",
    "\n",
    "* We create objects (instances of classes) by \"calling\" the class as if it was a function. Note how we can create many different objects of a same class.\n",
    "* We access the data within the object using a `<object>.<field>` notation\n",
    "* We invoke methods using the same notation.\n",
    "\n",
    "\n",
    "* All methods defined in the class take a special first argument, by convention named `self`. This is where the data for a particular object instance is stored.\n",
    "* There's a special method named `__init__`. This method is called when the object is being created; it is called a `constructor` (it constructs the object).\n",
    "\n",
    "\n",
    "* There are also many other elements to OOP (key being inheritance), that we don't have time to go over today -- check your ASTR 300 notes or the 'Learning Python' book."
   ]
  },
  {
   "cell_type": "markdown",
   "metadata": {
    "slideshow": {
     "slide_type": "slide"
    }
   },
   "source": [
    "## Everything is an object in Python\n",
    "\n",
    "Objects/classes are **immensly useful** when building organized, reusable, code.\n",
    "\n",
    "In Python, though you may not think about it, _every_ value is an object. For example, all integers are istances of a class `int`; think of an integer as an \"instance of class `int` with an internal state corresponding to the specific integer it represents\". Floating point numbers are instances of a class `float`, lists are instances of class `list`, strings are instances of class `str`, all `numpy` arrays you've encoutered are objects, etc, etc. ***Everything is an object in Python.***"
   ]
  },
  {
   "cell_type": "markdown",
   "metadata": {
    "slideshow": {
     "slide_type": "slide"
    }
   },
   "source": [
    "## Homework #1: Write a Calculator module\n",
    "\n",
    "Write a Python module named `calc` with a class `Calculator` that will implement a simple calculator capable of addition, subtraction, multiplication, division, and clearing the state (setting it to zero). It must have methods for all these operations, named `add()`, `sub()`, `mul()`, `div()`, and `clr()`, respectivelly.\n",
    "\n",
    "Write the `Calculator` class to that it implemets the [_method chaining_](https://en.wikipedia.org/wiki/Method_chaining) programming pattern.\n",
    "\n",
    "Finally, make sure the class and all of its methods are properly documented with documentation strings (\"docstrings\") following [proper conventions](https://www.python.org/dev/peps/pep-0257/).\n",
    "\n",
    "This module (and the class it contains) **must work** as a drop-in for the following program:"
   ]
  },
  {
   "cell_type": "code",
   "execution_count": 3,
   "metadata": {},
   "outputs": [
    {
     "data": {
      "text/markdown": [
       "```python\n",
       "#!/usr/bin/env python\n",
       "\n",
       "from calc import Calculator\n",
       "\n",
       "def assertAlmostEqual(a, b):\n",
       "\t\"\"\" A function that tests the approximate equality of two floating point numbers. \"\"\"\n",
       "\tassert round(a-b, 7) == 0, \"{} is not equal to {}.\".format(a, b)\n",
       "\n",
       "c1 = Calculator()\t# Create an instance of a calculator\n",
       "c2 = Calculator(50)\t# Create another calculator, initialized with 50\n",
       "\n",
       "# Test individual methods, and that the two instances properly\n",
       "# track their own state.\n",
       "c1.add(2);           assertAlmostEqual(c1.result(), 2)\n",
       "c1.mul(4);           assertAlmostEqual(c1.result(), 8)\n",
       "c2.add(50);          assertAlmostEqual(c2.result(), 100)\n",
       "c1.div(8);           assertAlmostEqual(c1.result(), 1)\n",
       "c1.sub(-3.);         assertAlmostEqual(c1.result(), 4)\n",
       "c2.div(c1.result()); assertAlmostEqual(c2.result(), 25)\n",
       "\n",
       "print (\"All tests passed! You have a working calculator!\")\n",
       "\n",
       "```"
      ],
      "text/plain": [
       "<IPython.core.display.Markdown object>"
      ]
     },
     "execution_count": 3,
     "metadata": {},
     "output_type": "execute_result"
    }
   ],
   "source": [
    "show_code_listing('test_calc.py')"
   ]
  },
  {
   "cell_type": "markdown",
   "metadata": {},
   "source": [
    "When you run the test program with a correctly written module, this is the message you should see:\n",
    "```\n",
    "    $./test_calc.py\n",
    "    All tests passed! You have a working calculator!\n",
    "```"
   ]
  }
 ],
 "metadata": {
  "celltoolbar": "Slideshow",
  "kernelspec": {
   "display_name": "Python 3 (ipykernel)",
   "language": "python",
   "name": "python3"
  },
  "language_info": {
   "codemirror_mode": {
    "name": "ipython",
    "version": 3
   },
   "file_extension": ".py",
   "mimetype": "text/x-python",
   "name": "python",
   "nbconvert_exporter": "python",
   "pygments_lexer": "ipython3",
   "version": "3.8.16"
  },
  "livereveal": {
   "scroll": true,
   "start_slideshow_at": "selected"
  }
 },
 "nbformat": 4,
 "nbformat_minor": 2
}
