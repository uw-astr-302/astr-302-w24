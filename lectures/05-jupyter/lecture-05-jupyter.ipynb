{
 "cells": [
  {
   "cell_type": "markdown",
   "metadata": {
    "slideshow": {
     "slide_type": "slide"
    }
   },
   "source": [
    "# Jupyter Notebooks Revisited"
   ]
  },
  {
   "cell_type": "markdown",
   "metadata": {
    "slideshow": {
     "slide_type": "slide"
    }
   },
   "source": [
    "You've already used Jupyter Notebooks extensivelly in ASTR 300. That's why we initially focused on writing some Python code _outside_ Jupyter. Python is a general-purpose programming lanugahe; it's not tied to notebooks!\n",
    "\n",
    "For the rest of this course, the notebook will be our primary tool of choice. So let's recap some of what you've seen in ASTR 300, and learn a few new useful tips:\n",
    "\n",
    "* Why Notebooks?\n",
    "* Jupyter tips and tricks\n",
    "* Jupyter Widgets: Making analysis interactive.\n"
   ]
  },
  {
   "cell_type": "markdown",
   "metadata": {
    "slideshow": {
     "slide_type": "slide"
    }
   },
   "source": [
    "## Why Notebooks?\n",
    "\n",
    "A piece of code (a program, a script) is only a _part_ of your research (analysis) work. There are also:\n",
    "* Writings about project goals and ideas\n",
    "* Explanatory code documentation\n",
    "* Results\n",
    "* Visualization of the results (plots)\n",
    "* Interpretation of the results (a write-up)\n",
    "\n",
    "All these evolve as the project goes forward (new ideas, new code, new results, new plots...). You organize all of these by ***keeping notes*** (for example, in a [_lab notebook_](https://en.wikipedia.org/wiki/Lab_notebook))."
   ]
  },
  {
   "cell_type": "markdown",
   "metadata": {
    "slideshow": {
     "slide_type": "slide"
    }
   },
   "source": [
    "## Jupyter: The next generation \"Lab Notebook\" (and more)\n",
    "\n",
    "Jupyter weaves all these aspects together, into one, executable, tightly coupled, unit -- a ***Jupyter notebook***.\n",
    "\n",
    "A notebook is the entry point into your research. It should gives you (or other readers) an overview of the goals, the code involved, the results and the plots. It will evolve with your research, morphing into the final analysis as you approach your goal. And sometimes, the writeup is the notebook itself (so-called _executable papers_)!\n",
    "\n",
    "Bonus: with git, you can record the evolution of your research (and also collaborate, try out different approaches, revert if they don't work, etc.)."
   ]
  },
  {
   "cell_type": "markdown",
   "metadata": {
    "slideshow": {
     "slide_type": "slide"
    }
   },
   "source": [
    "### \"Literate Computing\"\n",
    "\n",
    "From http://blog.fperez.org/2013/04/literate-computing-and-computational.html\n",
    "\n",
    "<blockquote>... [we] refer to the worfklow exposed by these kinds of computational notebooks (not just IPython, but also Sage, Mathematica and others), as \"literate computing\": it is the weaving of a narrative directly into a live computation, interleaving text with code and results to construct a complete piece that relies equally on the textual explanations and the computational components.</blockquote>\n",
    "\n",
    "-- Fernando Perez, the creator of IPython/Jupyter"
   ]
  },
  {
   "cell_type": "markdown",
   "metadata": {
    "slideshow": {
     "slide_type": "slide"
    }
   },
   "source": [
    "## Notebooks vs. Python programs/modules/scripts\n",
    "\n",
    "Notebooks are primarily meant to:\n",
    "* Enable fast, interactive, exploration (run some code, plot the result, change the code, etc.), and then...\n",
    "* Weave together, into a coherent (readable) whole, various pieces of code/data/results and text so the logic and the result of the research can be understood.\n",
    "\n",
    "Notebooks are __not__ a replacement for writing (Python) modules or programs and scripts. In particular, you cannot (should not) include one notebook into other notebooks."
   ]
  },
  {
   "cell_type": "markdown",
   "metadata": {
    "slideshow": {
     "slide_type": "slide"
    }
   },
   "source": [
    "When to use one or the other? Look at __reusability__ and __complexity__:\n",
    "* ***Reusability***: If there's a function in your notebook that you want to call from a different notebok (or an alltogether different project), move it into a Python module.\n",
    "* ***Complexity***: If your notebooks are flush with long complex functions (or classes), if you keep having to scroll past long chunks of code to get to the results or plots, it's likely you want to move some of that code into a module.\n",
    "\n",
    "I find it helps to think of a notebook as a \"paper in progress\"; just as you wouldn't print out your entire analysis code in the middle of the paper, you don't want it to clutter the notebook too much either. Keep the short, project-specific functions in a notebook; move the rest to separate modules."
   ]
  },
  {
   "cell_type": "markdown",
   "metadata": {
    "slideshow": {
     "slide_type": "slide"
    }
   },
   "source": [
    "## Typical Research/Analysis Workflow\n",
    "\n",
    "1. Write a brief explanation about what you're trying to do, and your chosen approach (the goal and hypothesis).\n",
    "1. Write some code to implement the analysis, look at the plots, modify your approach, try again...\n",
    "1. When you've made some tangible progress (e.g., resolved one piece of analysis), go back and clean up your notebook.\n",
    "  1. **Refactor**: Rework the code to reduce duplication, moving some of it into a separate module (remember: look at reusability and complexity).\n",
    "  1. **Document**: Enhance the documentation\n",
    "  1. **Explain**: Write a longer narrative about what you've done, so that the notebook can almost be read by someone not intimately familiar with the work.\n",
    "1. Go back to #1 until your entire project is done!"
   ]
  },
  {
   "cell_type": "markdown",
   "metadata": {
    "slideshow": {
     "slide_type": "slide"
    }
   },
   "source": [
    "## Jupyter Tips and Tricks\n",
    "\n",
    "Inspired in part by https://www.dataquest.io/blog/jupyter-notebook-tips-tricks-shortcuts/"
   ]
  },
  {
   "cell_type": "markdown",
   "metadata": {
    "slideshow": {
     "slide_type": "slide"
    }
   },
   "source": [
    "### Keyboard Shortcuts\n",
    "\n",
    "Keyboard shortcuts can tremendously speed up your work\n",
    "\n",
    "The notebook has two _modes_: the `command` mode and the `edit` mode. The `command` mode allows you to navigate between cells within a notebook. The `edit` mode is used to edit a specific cell.\n",
    "\n",
    "* Mode changes and cell execution:\n",
    "  * `Enter`: Enter edit mode\n",
    "  * `Esc`: Leave edit mode\n",
    "  * `Shift` + `Enter`: Run cell\n",
    "\n",
    "Tip: In command mode, the border around the selected cell is blue; in edit mode it's green.\n",
    "\n",
    "* Some command mode shortcuts\n",
    "  * `a`: Create a new cell _above_ the current one\n",
    "  * `b`: Create a new cell _below_ the current one\n",
    "  * `m`: Change cell type to Markdown\n",
    "  * `y`: Change cell type to Code\n",
    "  * `c`: Copy selected cell(s)\n",
    "  * `x`: Cut selected cell(s)\n",
    "  * `v`: Paste selected cell(s)\n",
    "  * `d` `d`: Delete selected cell(s)\n",
    "  * `z`: Undo cell deletion\n",
    "\n",
    "\n",
    "* Some edit mode shortcuts:\n",
    "  * `Tab`: Try to auto-complete the word you started typing.\n",
    "  * `Shift` + `Tab`: Show documentation for what you've just typed in.\n",
    "\n",
    "For more, check `Help > Keyboard Shurtcuts` (or press 'h' while in command mode)"
   ]
  },
  {
   "cell_type": "markdown",
   "metadata": {
    "slideshow": {
     "slide_type": "slide"
    }
   },
   "source": [
    "## Documentation\n",
    "\n",
    "Look inside the `Help` menu for pointers to documentation.\n",
    "\n",
    "Note that you will find not only documentation about Jupyter, but about key Python libraries as well (`numpy`, `scipy`, `pandas`, etc.)\n",
    "\n",
    "You can also get _online help_ by appending a question mark, `?`, to any Python object (or function, variable, etc.)."
   ]
  },
  {
   "cell_type": "code",
   "execution_count": 1,
   "metadata": {},
   "outputs": [
    {
     "data": {
      "text/plain": [
       "\u001b[0;31mDocstring:\u001b[0m\n",
       "arange([start,] stop[, step,], dtype=None, *, like=None)\n",
       "\n",
       "Return evenly spaced values within a given interval.\n",
       "\n",
       "Values are generated within the half-open interval ``[start, stop)``\n",
       "(in other words, the interval including `start` but excluding `stop`).\n",
       "For integer arguments the function is equivalent to the Python built-in\n",
       "`range` function, but returns an ndarray rather than a list.\n",
       "\n",
       "When using a non-integer step, such as 0.1, the results will often not\n",
       "be consistent.  It is better to use `numpy.linspace` for these cases.\n",
       "\n",
       "Parameters\n",
       "----------\n",
       "start : integer or real, optional\n",
       "    Start of interval.  The interval includes this value.  The default\n",
       "    start value is 0.\n",
       "stop : integer or real\n",
       "    End of interval.  The interval does not include this value, except\n",
       "    in some cases where `step` is not an integer and floating point\n",
       "    round-off affects the length of `out`.\n",
       "step : integer or real, optional\n",
       "    Spacing between values.  For any output `out`, this is the distance\n",
       "    between two adjacent values, ``out[i+1] - out[i]``.  The default\n",
       "    step size is 1.  If `step` is specified as a position argument,\n",
       "    `start` must also be given.\n",
       "dtype : dtype\n",
       "    The type of the output array.  If `dtype` is not given, infer the data\n",
       "    type from the other input arguments.\n",
       "like : array_like\n",
       "    Reference object to allow the creation of arrays which are not\n",
       "    NumPy arrays. If an array-like passed in as ``like`` supports\n",
       "    the ``__array_function__`` protocol, the result will be defined\n",
       "    by it. In this case, it ensures the creation of an array object\n",
       "    compatible with that passed in via this argument.\n",
       "\n",
       "    .. versionadded:: 1.20.0\n",
       "\n",
       "Returns\n",
       "-------\n",
       "arange : ndarray\n",
       "    Array of evenly spaced values.\n",
       "\n",
       "    For floating point arguments, the length of the result is\n",
       "    ``ceil((stop - start)/step)``.  Because of floating point overflow,\n",
       "    this rule may result in the last element of `out` being greater\n",
       "    than `stop`.\n",
       "\n",
       "See Also\n",
       "--------\n",
       "numpy.linspace : Evenly spaced numbers with careful handling of endpoints.\n",
       "numpy.ogrid: Arrays of evenly spaced numbers in N-dimensions.\n",
       "numpy.mgrid: Grid-shaped arrays of evenly spaced numbers in N-dimensions.\n",
       "\n",
       "Examples\n",
       "--------\n",
       ">>> np.arange(3)\n",
       "array([0, 1, 2])\n",
       ">>> np.arange(3.0)\n",
       "array([ 0.,  1.,  2.])\n",
       ">>> np.arange(3,7)\n",
       "array([3, 4, 5, 6])\n",
       ">>> np.arange(3,7,2)\n",
       "array([3, 5])\n",
       "\u001b[0;31mType:\u001b[0m      builtin_function_or_method\n"
      ]
     },
     "metadata": {},
     "output_type": "display_data"
    }
   ],
   "source": [
    "import numpy as np\n",
    "np.arange?"
   ]
  },
  {
   "cell_type": "code",
   "execution_count": 2,
   "metadata": {
    "slideshow": {
     "slide_type": "slide"
    }
   },
   "outputs": [
    {
     "data": {
      "application/javascript": [
       "/* Put everything inside the global mpl namespace */\n",
       "/* global mpl */\n",
       "window.mpl = {};\n",
       "\n",
       "mpl.get_websocket_type = function () {\n",
       "    if (typeof WebSocket !== 'undefined') {\n",
       "        return WebSocket;\n",
       "    } else if (typeof MozWebSocket !== 'undefined') {\n",
       "        return MozWebSocket;\n",
       "    } else {\n",
       "        alert(\n",
       "            'Your browser does not have WebSocket support. ' +\n",
       "                'Please try Chrome, Safari or Firefox ≥ 6. ' +\n",
       "                'Firefox 4 and 5 are also supported but you ' +\n",
       "                'have to enable WebSockets in about:config.'\n",
       "        );\n",
       "    }\n",
       "};\n",
       "\n",
       "mpl.figure = function (figure_id, websocket, ondownload, parent_element) {\n",
       "    this.id = figure_id;\n",
       "\n",
       "    this.ws = websocket;\n",
       "\n",
       "    this.supports_binary = this.ws.binaryType !== undefined;\n",
       "\n",
       "    if (!this.supports_binary) {\n",
       "        var warnings = document.getElementById('mpl-warnings');\n",
       "        if (warnings) {\n",
       "            warnings.style.display = 'block';\n",
       "            warnings.textContent =\n",
       "                'This browser does not support binary websocket messages. ' +\n",
       "                'Performance may be slow.';\n",
       "        }\n",
       "    }\n",
       "\n",
       "    this.imageObj = new Image();\n",
       "\n",
       "    this.context = undefined;\n",
       "    this.message = undefined;\n",
       "    this.canvas = undefined;\n",
       "    this.rubberband_canvas = undefined;\n",
       "    this.rubberband_context = undefined;\n",
       "    this.format_dropdown = undefined;\n",
       "\n",
       "    this.image_mode = 'full';\n",
       "\n",
       "    this.root = document.createElement('div');\n",
       "    this.root.setAttribute('style', 'display: inline-block');\n",
       "    this._root_extra_style(this.root);\n",
       "\n",
       "    parent_element.appendChild(this.root);\n",
       "\n",
       "    this._init_header(this);\n",
       "    this._init_canvas(this);\n",
       "    this._init_toolbar(this);\n",
       "\n",
       "    var fig = this;\n",
       "\n",
       "    this.waiting = false;\n",
       "\n",
       "    this.ws.onopen = function () {\n",
       "        fig.send_message('supports_binary', { value: fig.supports_binary });\n",
       "        fig.send_message('send_image_mode', {});\n",
       "        if (fig.ratio !== 1) {\n",
       "            fig.send_message('set_device_pixel_ratio', {\n",
       "                device_pixel_ratio: fig.ratio,\n",
       "            });\n",
       "        }\n",
       "        fig.send_message('refresh', {});\n",
       "    };\n",
       "\n",
       "    this.imageObj.onload = function () {\n",
       "        if (fig.image_mode === 'full') {\n",
       "            // Full images could contain transparency (where diff images\n",
       "            // almost always do), so we need to clear the canvas so that\n",
       "            // there is no ghosting.\n",
       "            fig.context.clearRect(0, 0, fig.canvas.width, fig.canvas.height);\n",
       "        }\n",
       "        fig.context.drawImage(fig.imageObj, 0, 0);\n",
       "    };\n",
       "\n",
       "    this.imageObj.onunload = function () {\n",
       "        fig.ws.close();\n",
       "    };\n",
       "\n",
       "    this.ws.onmessage = this._make_on_message_function(this);\n",
       "\n",
       "    this.ondownload = ondownload;\n",
       "};\n",
       "\n",
       "mpl.figure.prototype._init_header = function () {\n",
       "    var titlebar = document.createElement('div');\n",
       "    titlebar.classList =\n",
       "        'ui-dialog-titlebar ui-widget-header ui-corner-all ui-helper-clearfix';\n",
       "    var titletext = document.createElement('div');\n",
       "    titletext.classList = 'ui-dialog-title';\n",
       "    titletext.setAttribute(\n",
       "        'style',\n",
       "        'width: 100%; text-align: center; padding: 3px;'\n",
       "    );\n",
       "    titlebar.appendChild(titletext);\n",
       "    this.root.appendChild(titlebar);\n",
       "    this.header = titletext;\n",
       "};\n",
       "\n",
       "mpl.figure.prototype._canvas_extra_style = function (_canvas_div) {};\n",
       "\n",
       "mpl.figure.prototype._root_extra_style = function (_canvas_div) {};\n",
       "\n",
       "mpl.figure.prototype._init_canvas = function () {\n",
       "    var fig = this;\n",
       "\n",
       "    var canvas_div = (this.canvas_div = document.createElement('div'));\n",
       "    canvas_div.setAttribute(\n",
       "        'style',\n",
       "        'border: 1px solid #ddd;' +\n",
       "            'box-sizing: content-box;' +\n",
       "            'clear: both;' +\n",
       "            'min-height: 1px;' +\n",
       "            'min-width: 1px;' +\n",
       "            'outline: 0;' +\n",
       "            'overflow: hidden;' +\n",
       "            'position: relative;' +\n",
       "            'resize: both;'\n",
       "    );\n",
       "\n",
       "    function on_keyboard_event_closure(name) {\n",
       "        return function (event) {\n",
       "            return fig.key_event(event, name);\n",
       "        };\n",
       "    }\n",
       "\n",
       "    canvas_div.addEventListener(\n",
       "        'keydown',\n",
       "        on_keyboard_event_closure('key_press')\n",
       "    );\n",
       "    canvas_div.addEventListener(\n",
       "        'keyup',\n",
       "        on_keyboard_event_closure('key_release')\n",
       "    );\n",
       "\n",
       "    this._canvas_extra_style(canvas_div);\n",
       "    this.root.appendChild(canvas_div);\n",
       "\n",
       "    var canvas = (this.canvas = document.createElement('canvas'));\n",
       "    canvas.classList.add('mpl-canvas');\n",
       "    canvas.setAttribute('style', 'box-sizing: content-box;');\n",
       "\n",
       "    this.context = canvas.getContext('2d');\n",
       "\n",
       "    var backingStore =\n",
       "        this.context.backingStorePixelRatio ||\n",
       "        this.context.webkitBackingStorePixelRatio ||\n",
       "        this.context.mozBackingStorePixelRatio ||\n",
       "        this.context.msBackingStorePixelRatio ||\n",
       "        this.context.oBackingStorePixelRatio ||\n",
       "        this.context.backingStorePixelRatio ||\n",
       "        1;\n",
       "\n",
       "    this.ratio = (window.devicePixelRatio || 1) / backingStore;\n",
       "\n",
       "    var rubberband_canvas = (this.rubberband_canvas = document.createElement(\n",
       "        'canvas'\n",
       "    ));\n",
       "    rubberband_canvas.setAttribute(\n",
       "        'style',\n",
       "        'box-sizing: content-box; position: absolute; left: 0; top: 0; z-index: 1;'\n",
       "    );\n",
       "\n",
       "    // Apply a ponyfill if ResizeObserver is not implemented by browser.\n",
       "    if (this.ResizeObserver === undefined) {\n",
       "        if (window.ResizeObserver !== undefined) {\n",
       "            this.ResizeObserver = window.ResizeObserver;\n",
       "        } else {\n",
       "            var obs = _JSXTOOLS_RESIZE_OBSERVER({});\n",
       "            this.ResizeObserver = obs.ResizeObserver;\n",
       "        }\n",
       "    }\n",
       "\n",
       "    this.resizeObserverInstance = new this.ResizeObserver(function (entries) {\n",
       "        var nentries = entries.length;\n",
       "        for (var i = 0; i < nentries; i++) {\n",
       "            var entry = entries[i];\n",
       "            var width, height;\n",
       "            if (entry.contentBoxSize) {\n",
       "                if (entry.contentBoxSize instanceof Array) {\n",
       "                    // Chrome 84 implements new version of spec.\n",
       "                    width = entry.contentBoxSize[0].inlineSize;\n",
       "                    height = entry.contentBoxSize[0].blockSize;\n",
       "                } else {\n",
       "                    // Firefox implements old version of spec.\n",
       "                    width = entry.contentBoxSize.inlineSize;\n",
       "                    height = entry.contentBoxSize.blockSize;\n",
       "                }\n",
       "            } else {\n",
       "                // Chrome <84 implements even older version of spec.\n",
       "                width = entry.contentRect.width;\n",
       "                height = entry.contentRect.height;\n",
       "            }\n",
       "\n",
       "            // Keep the size of the canvas and rubber band canvas in sync with\n",
       "            // the canvas container.\n",
       "            if (entry.devicePixelContentBoxSize) {\n",
       "                // Chrome 84 implements new version of spec.\n",
       "                canvas.setAttribute(\n",
       "                    'width',\n",
       "                    entry.devicePixelContentBoxSize[0].inlineSize\n",
       "                );\n",
       "                canvas.setAttribute(\n",
       "                    'height',\n",
       "                    entry.devicePixelContentBoxSize[0].blockSize\n",
       "                );\n",
       "            } else {\n",
       "                canvas.setAttribute('width', width * fig.ratio);\n",
       "                canvas.setAttribute('height', height * fig.ratio);\n",
       "            }\n",
       "            canvas.setAttribute(\n",
       "                'style',\n",
       "                'width: ' + width + 'px; height: ' + height + 'px;'\n",
       "            );\n",
       "\n",
       "            rubberband_canvas.setAttribute('width', width);\n",
       "            rubberband_canvas.setAttribute('height', height);\n",
       "\n",
       "            // And update the size in Python. We ignore the initial 0/0 size\n",
       "            // that occurs as the element is placed into the DOM, which should\n",
       "            // otherwise not happen due to the minimum size styling.\n",
       "            if (fig.ws.readyState == 1 && width != 0 && height != 0) {\n",
       "                fig.request_resize(width, height);\n",
       "            }\n",
       "        }\n",
       "    });\n",
       "    this.resizeObserverInstance.observe(canvas_div);\n",
       "\n",
       "    function on_mouse_event_closure(name) {\n",
       "        return function (event) {\n",
       "            return fig.mouse_event(event, name);\n",
       "        };\n",
       "    }\n",
       "\n",
       "    rubberband_canvas.addEventListener(\n",
       "        'mousedown',\n",
       "        on_mouse_event_closure('button_press')\n",
       "    );\n",
       "    rubberband_canvas.addEventListener(\n",
       "        'mouseup',\n",
       "        on_mouse_event_closure('button_release')\n",
       "    );\n",
       "    rubberband_canvas.addEventListener(\n",
       "        'dblclick',\n",
       "        on_mouse_event_closure('dblclick')\n",
       "    );\n",
       "    // Throttle sequential mouse events to 1 every 20ms.\n",
       "    rubberband_canvas.addEventListener(\n",
       "        'mousemove',\n",
       "        on_mouse_event_closure('motion_notify')\n",
       "    );\n",
       "\n",
       "    rubberband_canvas.addEventListener(\n",
       "        'mouseenter',\n",
       "        on_mouse_event_closure('figure_enter')\n",
       "    );\n",
       "    rubberband_canvas.addEventListener(\n",
       "        'mouseleave',\n",
       "        on_mouse_event_closure('figure_leave')\n",
       "    );\n",
       "\n",
       "    canvas_div.addEventListener('wheel', function (event) {\n",
       "        if (event.deltaY < 0) {\n",
       "            event.step = 1;\n",
       "        } else {\n",
       "            event.step = -1;\n",
       "        }\n",
       "        on_mouse_event_closure('scroll')(event);\n",
       "    });\n",
       "\n",
       "    canvas_div.appendChild(canvas);\n",
       "    canvas_div.appendChild(rubberband_canvas);\n",
       "\n",
       "    this.rubberband_context = rubberband_canvas.getContext('2d');\n",
       "    this.rubberband_context.strokeStyle = '#000000';\n",
       "\n",
       "    this._resize_canvas = function (width, height, forward) {\n",
       "        if (forward) {\n",
       "            canvas_div.style.width = width + 'px';\n",
       "            canvas_div.style.height = height + 'px';\n",
       "        }\n",
       "    };\n",
       "\n",
       "    // Disable right mouse context menu.\n",
       "    this.rubberband_canvas.addEventListener('contextmenu', function (_e) {\n",
       "        event.preventDefault();\n",
       "        return false;\n",
       "    });\n",
       "\n",
       "    function set_focus() {\n",
       "        canvas.focus();\n",
       "        canvas_div.focus();\n",
       "    }\n",
       "\n",
       "    window.setTimeout(set_focus, 100);\n",
       "};\n",
       "\n",
       "mpl.figure.prototype._init_toolbar = function () {\n",
       "    var fig = this;\n",
       "\n",
       "    var toolbar = document.createElement('div');\n",
       "    toolbar.classList = 'mpl-toolbar';\n",
       "    this.root.appendChild(toolbar);\n",
       "\n",
       "    function on_click_closure(name) {\n",
       "        return function (_event) {\n",
       "            return fig.toolbar_button_onclick(name);\n",
       "        };\n",
       "    }\n",
       "\n",
       "    function on_mouseover_closure(tooltip) {\n",
       "        return function (event) {\n",
       "            if (!event.currentTarget.disabled) {\n",
       "                return fig.toolbar_button_onmouseover(tooltip);\n",
       "            }\n",
       "        };\n",
       "    }\n",
       "\n",
       "    fig.buttons = {};\n",
       "    var buttonGroup = document.createElement('div');\n",
       "    buttonGroup.classList = 'mpl-button-group';\n",
       "    for (var toolbar_ind in mpl.toolbar_items) {\n",
       "        var name = mpl.toolbar_items[toolbar_ind][0];\n",
       "        var tooltip = mpl.toolbar_items[toolbar_ind][1];\n",
       "        var image = mpl.toolbar_items[toolbar_ind][2];\n",
       "        var method_name = mpl.toolbar_items[toolbar_ind][3];\n",
       "\n",
       "        if (!name) {\n",
       "            /* Instead of a spacer, we start a new button group. */\n",
       "            if (buttonGroup.hasChildNodes()) {\n",
       "                toolbar.appendChild(buttonGroup);\n",
       "            }\n",
       "            buttonGroup = document.createElement('div');\n",
       "            buttonGroup.classList = 'mpl-button-group';\n",
       "            continue;\n",
       "        }\n",
       "\n",
       "        var button = (fig.buttons[name] = document.createElement('button'));\n",
       "        button.classList = 'mpl-widget';\n",
       "        button.setAttribute('role', 'button');\n",
       "        button.setAttribute('aria-disabled', 'false');\n",
       "        button.addEventListener('click', on_click_closure(method_name));\n",
       "        button.addEventListener('mouseover', on_mouseover_closure(tooltip));\n",
       "\n",
       "        var icon_img = document.createElement('img');\n",
       "        icon_img.src = '_images/' + image + '.png';\n",
       "        icon_img.srcset = '_images/' + image + '_large.png 2x';\n",
       "        icon_img.alt = tooltip;\n",
       "        button.appendChild(icon_img);\n",
       "\n",
       "        buttonGroup.appendChild(button);\n",
       "    }\n",
       "\n",
       "    if (buttonGroup.hasChildNodes()) {\n",
       "        toolbar.appendChild(buttonGroup);\n",
       "    }\n",
       "\n",
       "    var fmt_picker = document.createElement('select');\n",
       "    fmt_picker.classList = 'mpl-widget';\n",
       "    toolbar.appendChild(fmt_picker);\n",
       "    this.format_dropdown = fmt_picker;\n",
       "\n",
       "    for (var ind in mpl.extensions) {\n",
       "        var fmt = mpl.extensions[ind];\n",
       "        var option = document.createElement('option');\n",
       "        option.selected = fmt === mpl.default_extension;\n",
       "        option.innerHTML = fmt;\n",
       "        fmt_picker.appendChild(option);\n",
       "    }\n",
       "\n",
       "    var status_bar = document.createElement('span');\n",
       "    status_bar.classList = 'mpl-message';\n",
       "    toolbar.appendChild(status_bar);\n",
       "    this.message = status_bar;\n",
       "};\n",
       "\n",
       "mpl.figure.prototype.request_resize = function (x_pixels, y_pixels) {\n",
       "    // Request matplotlib to resize the figure. Matplotlib will then trigger a resize in the client,\n",
       "    // which will in turn request a refresh of the image.\n",
       "    this.send_message('resize', { width: x_pixels, height: y_pixels });\n",
       "};\n",
       "\n",
       "mpl.figure.prototype.send_message = function (type, properties) {\n",
       "    properties['type'] = type;\n",
       "    properties['figure_id'] = this.id;\n",
       "    this.ws.send(JSON.stringify(properties));\n",
       "};\n",
       "\n",
       "mpl.figure.prototype.send_draw_message = function () {\n",
       "    if (!this.waiting) {\n",
       "        this.waiting = true;\n",
       "        this.ws.send(JSON.stringify({ type: 'draw', figure_id: this.id }));\n",
       "    }\n",
       "};\n",
       "\n",
       "mpl.figure.prototype.handle_save = function (fig, _msg) {\n",
       "    var format_dropdown = fig.format_dropdown;\n",
       "    var format = format_dropdown.options[format_dropdown.selectedIndex].value;\n",
       "    fig.ondownload(fig, format);\n",
       "};\n",
       "\n",
       "mpl.figure.prototype.handle_resize = function (fig, msg) {\n",
       "    var size = msg['size'];\n",
       "    if (size[0] !== fig.canvas.width || size[1] !== fig.canvas.height) {\n",
       "        fig._resize_canvas(size[0], size[1], msg['forward']);\n",
       "        fig.send_message('refresh', {});\n",
       "    }\n",
       "};\n",
       "\n",
       "mpl.figure.prototype.handle_rubberband = function (fig, msg) {\n",
       "    var x0 = msg['x0'] / fig.ratio;\n",
       "    var y0 = (fig.canvas.height - msg['y0']) / fig.ratio;\n",
       "    var x1 = msg['x1'] / fig.ratio;\n",
       "    var y1 = (fig.canvas.height - msg['y1']) / fig.ratio;\n",
       "    x0 = Math.floor(x0) + 0.5;\n",
       "    y0 = Math.floor(y0) + 0.5;\n",
       "    x1 = Math.floor(x1) + 0.5;\n",
       "    y1 = Math.floor(y1) + 0.5;\n",
       "    var min_x = Math.min(x0, x1);\n",
       "    var min_y = Math.min(y0, y1);\n",
       "    var width = Math.abs(x1 - x0);\n",
       "    var height = Math.abs(y1 - y0);\n",
       "\n",
       "    fig.rubberband_context.clearRect(\n",
       "        0,\n",
       "        0,\n",
       "        fig.canvas.width / fig.ratio,\n",
       "        fig.canvas.height / fig.ratio\n",
       "    );\n",
       "\n",
       "    fig.rubberband_context.strokeRect(min_x, min_y, width, height);\n",
       "};\n",
       "\n",
       "mpl.figure.prototype.handle_figure_label = function (fig, msg) {\n",
       "    // Updates the figure title.\n",
       "    fig.header.textContent = msg['label'];\n",
       "};\n",
       "\n",
       "mpl.figure.prototype.handle_cursor = function (fig, msg) {\n",
       "    fig.rubberband_canvas.style.cursor = msg['cursor'];\n",
       "};\n",
       "\n",
       "mpl.figure.prototype.handle_message = function (fig, msg) {\n",
       "    fig.message.textContent = msg['message'];\n",
       "};\n",
       "\n",
       "mpl.figure.prototype.handle_draw = function (fig, _msg) {\n",
       "    // Request the server to send over a new figure.\n",
       "    fig.send_draw_message();\n",
       "};\n",
       "\n",
       "mpl.figure.prototype.handle_image_mode = function (fig, msg) {\n",
       "    fig.image_mode = msg['mode'];\n",
       "};\n",
       "\n",
       "mpl.figure.prototype.handle_history_buttons = function (fig, msg) {\n",
       "    for (var key in msg) {\n",
       "        if (!(key in fig.buttons)) {\n",
       "            continue;\n",
       "        }\n",
       "        fig.buttons[key].disabled = !msg[key];\n",
       "        fig.buttons[key].setAttribute('aria-disabled', !msg[key]);\n",
       "    }\n",
       "};\n",
       "\n",
       "mpl.figure.prototype.handle_navigate_mode = function (fig, msg) {\n",
       "    if (msg['mode'] === 'PAN') {\n",
       "        fig.buttons['Pan'].classList.add('active');\n",
       "        fig.buttons['Zoom'].classList.remove('active');\n",
       "    } else if (msg['mode'] === 'ZOOM') {\n",
       "        fig.buttons['Pan'].classList.remove('active');\n",
       "        fig.buttons['Zoom'].classList.add('active');\n",
       "    } else {\n",
       "        fig.buttons['Pan'].classList.remove('active');\n",
       "        fig.buttons['Zoom'].classList.remove('active');\n",
       "    }\n",
       "};\n",
       "\n",
       "mpl.figure.prototype.updated_canvas_event = function () {\n",
       "    // Called whenever the canvas gets updated.\n",
       "    this.send_message('ack', {});\n",
       "};\n",
       "\n",
       "// A function to construct a web socket function for onmessage handling.\n",
       "// Called in the figure constructor.\n",
       "mpl.figure.prototype._make_on_message_function = function (fig) {\n",
       "    return function socket_on_message(evt) {\n",
       "        if (evt.data instanceof Blob) {\n",
       "            var img = evt.data;\n",
       "            if (img.type !== 'image/png') {\n",
       "                /* FIXME: We get \"Resource interpreted as Image but\n",
       "                 * transferred with MIME type text/plain:\" errors on\n",
       "                 * Chrome.  But how to set the MIME type?  It doesn't seem\n",
       "                 * to be part of the websocket stream */\n",
       "                img.type = 'image/png';\n",
       "            }\n",
       "\n",
       "            /* Free the memory for the previous frames */\n",
       "            if (fig.imageObj.src) {\n",
       "                (window.URL || window.webkitURL).revokeObjectURL(\n",
       "                    fig.imageObj.src\n",
       "                );\n",
       "            }\n",
       "\n",
       "            fig.imageObj.src = (window.URL || window.webkitURL).createObjectURL(\n",
       "                img\n",
       "            );\n",
       "            fig.updated_canvas_event();\n",
       "            fig.waiting = false;\n",
       "            return;\n",
       "        } else if (\n",
       "            typeof evt.data === 'string' &&\n",
       "            evt.data.slice(0, 21) === 'data:image/png;base64'\n",
       "        ) {\n",
       "            fig.imageObj.src = evt.data;\n",
       "            fig.updated_canvas_event();\n",
       "            fig.waiting = false;\n",
       "            return;\n",
       "        }\n",
       "\n",
       "        var msg = JSON.parse(evt.data);\n",
       "        var msg_type = msg['type'];\n",
       "\n",
       "        // Call the  \"handle_{type}\" callback, which takes\n",
       "        // the figure and JSON message as its only arguments.\n",
       "        try {\n",
       "            var callback = fig['handle_' + msg_type];\n",
       "        } catch (e) {\n",
       "            console.log(\n",
       "                \"No handler for the '\" + msg_type + \"' message type: \",\n",
       "                msg\n",
       "            );\n",
       "            return;\n",
       "        }\n",
       "\n",
       "        if (callback) {\n",
       "            try {\n",
       "                // console.log(\"Handling '\" + msg_type + \"' message: \", msg);\n",
       "                callback(fig, msg);\n",
       "            } catch (e) {\n",
       "                console.log(\n",
       "                    \"Exception inside the 'handler_\" + msg_type + \"' callback:\",\n",
       "                    e,\n",
       "                    e.stack,\n",
       "                    msg\n",
       "                );\n",
       "            }\n",
       "        }\n",
       "    };\n",
       "};\n",
       "\n",
       "// from https://stackoverflow.com/questions/1114465/getting-mouse-location-in-canvas\n",
       "mpl.findpos = function (e) {\n",
       "    //this section is from http://www.quirksmode.org/js/events_properties.html\n",
       "    var targ;\n",
       "    if (!e) {\n",
       "        e = window.event;\n",
       "    }\n",
       "    if (e.target) {\n",
       "        targ = e.target;\n",
       "    } else if (e.srcElement) {\n",
       "        targ = e.srcElement;\n",
       "    }\n",
       "    if (targ.nodeType === 3) {\n",
       "        // defeat Safari bug\n",
       "        targ = targ.parentNode;\n",
       "    }\n",
       "\n",
       "    // pageX,Y are the mouse positions relative to the document\n",
       "    var boundingRect = targ.getBoundingClientRect();\n",
       "    var x = e.pageX - (boundingRect.left + document.body.scrollLeft);\n",
       "    var y = e.pageY - (boundingRect.top + document.body.scrollTop);\n",
       "\n",
       "    return { x: x, y: y };\n",
       "};\n",
       "\n",
       "/*\n",
       " * return a copy of an object with only non-object keys\n",
       " * we need this to avoid circular references\n",
       " * https://stackoverflow.com/a/24161582/3208463\n",
       " */\n",
       "function simpleKeys(original) {\n",
       "    return Object.keys(original).reduce(function (obj, key) {\n",
       "        if (typeof original[key] !== 'object') {\n",
       "            obj[key] = original[key];\n",
       "        }\n",
       "        return obj;\n",
       "    }, {});\n",
       "}\n",
       "\n",
       "mpl.figure.prototype.mouse_event = function (event, name) {\n",
       "    var canvas_pos = mpl.findpos(event);\n",
       "\n",
       "    if (name === 'button_press') {\n",
       "        this.canvas.focus();\n",
       "        this.canvas_div.focus();\n",
       "    }\n",
       "\n",
       "    var x = canvas_pos.x * this.ratio;\n",
       "    var y = canvas_pos.y * this.ratio;\n",
       "\n",
       "    this.send_message(name, {\n",
       "        x: x,\n",
       "        y: y,\n",
       "        button: event.button,\n",
       "        step: event.step,\n",
       "        guiEvent: simpleKeys(event),\n",
       "    });\n",
       "\n",
       "    /* This prevents the web browser from automatically changing to\n",
       "     * the text insertion cursor when the button is pressed.  We want\n",
       "     * to control all of the cursor setting manually through the\n",
       "     * 'cursor' event from matplotlib */\n",
       "    event.preventDefault();\n",
       "    return false;\n",
       "};\n",
       "\n",
       "mpl.figure.prototype._key_event_extra = function (_event, _name) {\n",
       "    // Handle any extra behaviour associated with a key event\n",
       "};\n",
       "\n",
       "mpl.figure.prototype.key_event = function (event, name) {\n",
       "    // Prevent repeat events\n",
       "    if (name === 'key_press') {\n",
       "        if (event.key === this._key) {\n",
       "            return;\n",
       "        } else {\n",
       "            this._key = event.key;\n",
       "        }\n",
       "    }\n",
       "    if (name === 'key_release') {\n",
       "        this._key = null;\n",
       "    }\n",
       "\n",
       "    var value = '';\n",
       "    if (event.ctrlKey && event.key !== 'Control') {\n",
       "        value += 'ctrl+';\n",
       "    }\n",
       "    else if (event.altKey && event.key !== 'Alt') {\n",
       "        value += 'alt+';\n",
       "    }\n",
       "    else if (event.shiftKey && event.key !== 'Shift') {\n",
       "        value += 'shift+';\n",
       "    }\n",
       "\n",
       "    value += 'k' + event.key;\n",
       "\n",
       "    this._key_event_extra(event, name);\n",
       "\n",
       "    this.send_message(name, { key: value, guiEvent: simpleKeys(event) });\n",
       "    return false;\n",
       "};\n",
       "\n",
       "mpl.figure.prototype.toolbar_button_onclick = function (name) {\n",
       "    if (name === 'download') {\n",
       "        this.handle_save(this, null);\n",
       "    } else {\n",
       "        this.send_message('toolbar_button', { name: name });\n",
       "    }\n",
       "};\n",
       "\n",
       "mpl.figure.prototype.toolbar_button_onmouseover = function (tooltip) {\n",
       "    this.message.textContent = tooltip;\n",
       "};\n",
       "\n",
       "///////////////// REMAINING CONTENT GENERATED BY embed_js.py /////////////////\n",
       "// prettier-ignore\n",
       "var _JSXTOOLS_RESIZE_OBSERVER=function(A){var t,i=new WeakMap,n=new WeakMap,a=new WeakMap,r=new WeakMap,o=new Set;function s(e){if(!(this instanceof s))throw new TypeError(\"Constructor requires 'new' operator\");i.set(this,e)}function h(){throw new TypeError(\"Function is not a constructor\")}function c(e,t,i,n){e=0 in arguments?Number(arguments[0]):0,t=1 in arguments?Number(arguments[1]):0,i=2 in arguments?Number(arguments[2]):0,n=3 in arguments?Number(arguments[3]):0,this.right=(this.x=this.left=e)+(this.width=i),this.bottom=(this.y=this.top=t)+(this.height=n),Object.freeze(this)}function d(){t=requestAnimationFrame(d);var s=new WeakMap,p=new Set;o.forEach((function(t){r.get(t).forEach((function(i){var r=t instanceof window.SVGElement,o=a.get(t),d=r?0:parseFloat(o.paddingTop),f=r?0:parseFloat(o.paddingRight),l=r?0:parseFloat(o.paddingBottom),u=r?0:parseFloat(o.paddingLeft),g=r?0:parseFloat(o.borderTopWidth),m=r?0:parseFloat(o.borderRightWidth),w=r?0:parseFloat(o.borderBottomWidth),b=u+f,F=d+l,v=(r?0:parseFloat(o.borderLeftWidth))+m,W=g+w,y=r?0:t.offsetHeight-W-t.clientHeight,E=r?0:t.offsetWidth-v-t.clientWidth,R=b+v,z=F+W,M=r?t.width:parseFloat(o.width)-R-E,O=r?t.height:parseFloat(o.height)-z-y;if(n.has(t)){var k=n.get(t);if(k[0]===M&&k[1]===O)return}n.set(t,[M,O]);var S=Object.create(h.prototype);S.target=t,S.contentRect=new c(u,d,M,O),s.has(i)||(s.set(i,[]),p.add(i)),s.get(i).push(S)}))})),p.forEach((function(e){i.get(e).call(e,s.get(e),e)}))}return s.prototype.observe=function(i){if(i instanceof window.Element){r.has(i)||(r.set(i,new Set),o.add(i),a.set(i,window.getComputedStyle(i)));var n=r.get(i);n.has(this)||n.add(this),cancelAnimationFrame(t),t=requestAnimationFrame(d)}},s.prototype.unobserve=function(i){if(i instanceof window.Element&&r.has(i)){var n=r.get(i);n.has(this)&&(n.delete(this),n.size||(r.delete(i),o.delete(i))),n.size||r.delete(i),o.size||cancelAnimationFrame(t)}},A.DOMRectReadOnly=c,A.ResizeObserver=s,A.ResizeObserverEntry=h,A}; // eslint-disable-line\n",
       "mpl.toolbar_items = [[\"Home\", \"Reset original view\", \"fa fa-home icon-home\", \"home\"], [\"Back\", \"Back to previous view\", \"fa fa-arrow-left icon-arrow-left\", \"back\"], [\"Forward\", \"Forward to next view\", \"fa fa-arrow-right icon-arrow-right\", \"forward\"], [\"\", \"\", \"\", \"\"], [\"Pan\", \"Left button pans, Right button zooms\\nx/y fixes axis, CTRL fixes aspect\", \"fa fa-arrows icon-move\", \"pan\"], [\"Zoom\", \"Zoom to rectangle\\nx/y fixes axis\", \"fa fa-square-o icon-check-empty\", \"zoom\"], [\"\", \"\", \"\", \"\"], [\"Download\", \"Download plot\", \"fa fa-floppy-o icon-save\", \"download\"]];\n",
       "\n",
       "mpl.extensions = [\"eps\", \"jpeg\", \"pgf\", \"pdf\", \"png\", \"ps\", \"raw\", \"svg\", \"tif\"];\n",
       "\n",
       "mpl.default_extension = \"png\";/* global mpl */\n",
       "\n",
       "var comm_websocket_adapter = function (comm) {\n",
       "    // Create a \"websocket\"-like object which calls the given IPython comm\n",
       "    // object with the appropriate methods. Currently this is a non binary\n",
       "    // socket, so there is still some room for performance tuning.\n",
       "    var ws = {};\n",
       "\n",
       "    ws.binaryType = comm.kernel.ws.binaryType;\n",
       "    ws.readyState = comm.kernel.ws.readyState;\n",
       "    function updateReadyState(_event) {\n",
       "        if (comm.kernel.ws) {\n",
       "            ws.readyState = comm.kernel.ws.readyState;\n",
       "        } else {\n",
       "            ws.readyState = 3; // Closed state.\n",
       "        }\n",
       "    }\n",
       "    comm.kernel.ws.addEventListener('open', updateReadyState);\n",
       "    comm.kernel.ws.addEventListener('close', updateReadyState);\n",
       "    comm.kernel.ws.addEventListener('error', updateReadyState);\n",
       "\n",
       "    ws.close = function () {\n",
       "        comm.close();\n",
       "    };\n",
       "    ws.send = function (m) {\n",
       "        //console.log('sending', m);\n",
       "        comm.send(m);\n",
       "    };\n",
       "    // Register the callback with on_msg.\n",
       "    comm.on_msg(function (msg) {\n",
       "        //console.log('receiving', msg['content']['data'], msg);\n",
       "        var data = msg['content']['data'];\n",
       "        if (data['blob'] !== undefined) {\n",
       "            data = {\n",
       "                data: new Blob(msg['buffers'], { type: data['blob'] }),\n",
       "            };\n",
       "        }\n",
       "        // Pass the mpl event to the overridden (by mpl) onmessage function.\n",
       "        ws.onmessage(data);\n",
       "    });\n",
       "    return ws;\n",
       "};\n",
       "\n",
       "mpl.mpl_figure_comm = function (comm, msg) {\n",
       "    // This is the function which gets called when the mpl process\n",
       "    // starts-up an IPython Comm through the \"matplotlib\" channel.\n",
       "\n",
       "    var id = msg.content.data.id;\n",
       "    // Get hold of the div created by the display call when the Comm\n",
       "    // socket was opened in Python.\n",
       "    var element = document.getElementById(id);\n",
       "    var ws_proxy = comm_websocket_adapter(comm);\n",
       "\n",
       "    function ondownload(figure, _format) {\n",
       "        window.open(figure.canvas.toDataURL());\n",
       "    }\n",
       "\n",
       "    var fig = new mpl.figure(id, ws_proxy, ondownload, element);\n",
       "\n",
       "    // Call onopen now - mpl needs it, as it is assuming we've passed it a real\n",
       "    // web socket which is closed, not our websocket->open comm proxy.\n",
       "    ws_proxy.onopen();\n",
       "\n",
       "    fig.parent_element = element;\n",
       "    fig.cell_info = mpl.find_output_cell(\"<div id='\" + id + \"'></div>\");\n",
       "    if (!fig.cell_info) {\n",
       "        console.error('Failed to find cell for figure', id, fig);\n",
       "        return;\n",
       "    }\n",
       "    fig.cell_info[0].output_area.element.on(\n",
       "        'cleared',\n",
       "        { fig: fig },\n",
       "        fig._remove_fig_handler\n",
       "    );\n",
       "};\n",
       "\n",
       "mpl.figure.prototype.handle_close = function (fig, msg) {\n",
       "    var width = fig.canvas.width / fig.ratio;\n",
       "    fig.cell_info[0].output_area.element.off(\n",
       "        'cleared',\n",
       "        fig._remove_fig_handler\n",
       "    );\n",
       "    fig.resizeObserverInstance.unobserve(fig.canvas_div);\n",
       "\n",
       "    // Update the output cell to use the data from the current canvas.\n",
       "    fig.push_to_output();\n",
       "    var dataURL = fig.canvas.toDataURL();\n",
       "    // Re-enable the keyboard manager in IPython - without this line, in FF,\n",
       "    // the notebook keyboard shortcuts fail.\n",
       "    IPython.keyboard_manager.enable();\n",
       "    fig.parent_element.innerHTML =\n",
       "        '<img src=\"' + dataURL + '\" width=\"' + width + '\">';\n",
       "    fig.close_ws(fig, msg);\n",
       "};\n",
       "\n",
       "mpl.figure.prototype.close_ws = function (fig, msg) {\n",
       "    fig.send_message('closing', msg);\n",
       "    // fig.ws.close()\n",
       "};\n",
       "\n",
       "mpl.figure.prototype.push_to_output = function (_remove_interactive) {\n",
       "    // Turn the data on the canvas into data in the output cell.\n",
       "    var width = this.canvas.width / this.ratio;\n",
       "    var dataURL = this.canvas.toDataURL();\n",
       "    this.cell_info[1]['text/html'] =\n",
       "        '<img src=\"' + dataURL + '\" width=\"' + width + '\">';\n",
       "};\n",
       "\n",
       "mpl.figure.prototype.updated_canvas_event = function () {\n",
       "    // Tell IPython that the notebook contents must change.\n",
       "    IPython.notebook.set_dirty(true);\n",
       "    this.send_message('ack', {});\n",
       "    var fig = this;\n",
       "    // Wait a second, then push the new image to the DOM so\n",
       "    // that it is saved nicely (might be nice to debounce this).\n",
       "    setTimeout(function () {\n",
       "        fig.push_to_output();\n",
       "    }, 1000);\n",
       "};\n",
       "\n",
       "mpl.figure.prototype._init_toolbar = function () {\n",
       "    var fig = this;\n",
       "\n",
       "    var toolbar = document.createElement('div');\n",
       "    toolbar.classList = 'btn-toolbar';\n",
       "    this.root.appendChild(toolbar);\n",
       "\n",
       "    function on_click_closure(name) {\n",
       "        return function (_event) {\n",
       "            return fig.toolbar_button_onclick(name);\n",
       "        };\n",
       "    }\n",
       "\n",
       "    function on_mouseover_closure(tooltip) {\n",
       "        return function (event) {\n",
       "            if (!event.currentTarget.disabled) {\n",
       "                return fig.toolbar_button_onmouseover(tooltip);\n",
       "            }\n",
       "        };\n",
       "    }\n",
       "\n",
       "    fig.buttons = {};\n",
       "    var buttonGroup = document.createElement('div');\n",
       "    buttonGroup.classList = 'btn-group';\n",
       "    var button;\n",
       "    for (var toolbar_ind in mpl.toolbar_items) {\n",
       "        var name = mpl.toolbar_items[toolbar_ind][0];\n",
       "        var tooltip = mpl.toolbar_items[toolbar_ind][1];\n",
       "        var image = mpl.toolbar_items[toolbar_ind][2];\n",
       "        var method_name = mpl.toolbar_items[toolbar_ind][3];\n",
       "\n",
       "        if (!name) {\n",
       "            /* Instead of a spacer, we start a new button group. */\n",
       "            if (buttonGroup.hasChildNodes()) {\n",
       "                toolbar.appendChild(buttonGroup);\n",
       "            }\n",
       "            buttonGroup = document.createElement('div');\n",
       "            buttonGroup.classList = 'btn-group';\n",
       "            continue;\n",
       "        }\n",
       "\n",
       "        button = fig.buttons[name] = document.createElement('button');\n",
       "        button.classList = 'btn btn-default';\n",
       "        button.href = '#';\n",
       "        button.title = name;\n",
       "        button.innerHTML = '<i class=\"fa ' + image + ' fa-lg\"></i>';\n",
       "        button.addEventListener('click', on_click_closure(method_name));\n",
       "        button.addEventListener('mouseover', on_mouseover_closure(tooltip));\n",
       "        buttonGroup.appendChild(button);\n",
       "    }\n",
       "\n",
       "    if (buttonGroup.hasChildNodes()) {\n",
       "        toolbar.appendChild(buttonGroup);\n",
       "    }\n",
       "\n",
       "    // Add the status bar.\n",
       "    var status_bar = document.createElement('span');\n",
       "    status_bar.classList = 'mpl-message pull-right';\n",
       "    toolbar.appendChild(status_bar);\n",
       "    this.message = status_bar;\n",
       "\n",
       "    // Add the close button to the window.\n",
       "    var buttongrp = document.createElement('div');\n",
       "    buttongrp.classList = 'btn-group inline pull-right';\n",
       "    button = document.createElement('button');\n",
       "    button.classList = 'btn btn-mini btn-primary';\n",
       "    button.href = '#';\n",
       "    button.title = 'Stop Interaction';\n",
       "    button.innerHTML = '<i class=\"fa fa-power-off icon-remove icon-large\"></i>';\n",
       "    button.addEventListener('click', function (_evt) {\n",
       "        fig.handle_close(fig, {});\n",
       "    });\n",
       "    button.addEventListener(\n",
       "        'mouseover',\n",
       "        on_mouseover_closure('Stop Interaction')\n",
       "    );\n",
       "    buttongrp.appendChild(button);\n",
       "    var titlebar = this.root.querySelector('.ui-dialog-titlebar');\n",
       "    titlebar.insertBefore(buttongrp, titlebar.firstChild);\n",
       "};\n",
       "\n",
       "mpl.figure.prototype._remove_fig_handler = function (event) {\n",
       "    var fig = event.data.fig;\n",
       "    if (event.target !== this) {\n",
       "        // Ignore bubbled events from children.\n",
       "        return;\n",
       "    }\n",
       "    fig.close_ws(fig, {});\n",
       "};\n",
       "\n",
       "mpl.figure.prototype._root_extra_style = function (el) {\n",
       "    el.style.boxSizing = 'content-box'; // override notebook setting of border-box.\n",
       "};\n",
       "\n",
       "mpl.figure.prototype._canvas_extra_style = function (el) {\n",
       "    // this is important to make the div 'focusable\n",
       "    el.setAttribute('tabindex', 0);\n",
       "    // reach out to IPython and tell the keyboard manager to turn it's self\n",
       "    // off when our div gets focus\n",
       "\n",
       "    // location in version 3\n",
       "    if (IPython.notebook.keyboard_manager) {\n",
       "        IPython.notebook.keyboard_manager.register_events(el);\n",
       "    } else {\n",
       "        // location in version 2\n",
       "        IPython.keyboard_manager.register_events(el);\n",
       "    }\n",
       "};\n",
       "\n",
       "mpl.figure.prototype._key_event_extra = function (event, _name) {\n",
       "    // Check for shift+enter\n",
       "    if (event.shiftKey && event.which === 13) {\n",
       "        this.canvas_div.blur();\n",
       "        // select the cell after this one\n",
       "        var index = IPython.notebook.find_cell_index(this.cell_info[0]);\n",
       "        IPython.notebook.select(index + 1);\n",
       "    }\n",
       "};\n",
       "\n",
       "mpl.figure.prototype.handle_save = function (fig, _msg) {\n",
       "    fig.ondownload(fig, null);\n",
       "};\n",
       "\n",
       "mpl.find_output_cell = function (html_output) {\n",
       "    // Return the cell and output element which can be found *uniquely* in the notebook.\n",
       "    // Note - this is a bit hacky, but it is done because the \"notebook_saving.Notebook\"\n",
       "    // IPython event is triggered only after the cells have been serialised, which for\n",
       "    // our purposes (turning an active figure into a static one), is too late.\n",
       "    var cells = IPython.notebook.get_cells();\n",
       "    var ncells = cells.length;\n",
       "    for (var i = 0; i < ncells; i++) {\n",
       "        var cell = cells[i];\n",
       "        if (cell.cell_type === 'code') {\n",
       "            for (var j = 0; j < cell.output_area.outputs.length; j++) {\n",
       "                var data = cell.output_area.outputs[j];\n",
       "                if (data.data) {\n",
       "                    // IPython >= 3 moved mimebundle to data attribute of output\n",
       "                    data = data.data;\n",
       "                }\n",
       "                if (data['text/html'] === html_output) {\n",
       "                    return [cell, data, j];\n",
       "                }\n",
       "            }\n",
       "        }\n",
       "    }\n",
       "};\n",
       "\n",
       "// Register the function which deals with the matplotlib target/channel.\n",
       "// The kernel may be null if the page has been refreshed.\n",
       "if (IPython.notebook.kernel !== null) {\n",
       "    IPython.notebook.kernel.comm_manager.register_target(\n",
       "        'matplotlib',\n",
       "        mpl.mpl_figure_comm\n",
       "    );\n",
       "}\n"
      ],
      "text/plain": [
       "<IPython.core.display.Javascript object>"
      ]
     },
     "metadata": {},
     "output_type": "display_data"
    },
    {
     "data": {
      "text/html": [
       "<div id='a6f1f4e0-3848-4d74-972c-74668d78aafd'></div>"
      ],
      "text/plain": [
       "<IPython.core.display.HTML object>"
      ]
     },
     "metadata": {},
     "output_type": "display_data"
    }
   ],
   "source": [
    "# Code snippet from https://matplotlib.org/gallery/shapes_and_collections/scatter.html\n",
    "%matplotlib notebook\n",
    "\n",
    "import numpy as np\n",
    "import matplotlib.pyplot as plt\n",
    "\n",
    "# Fixing random state for reproducibility\n",
    "np.random.seed(19680801)\n",
    "\n",
    "\n",
    "N = 50\n",
    "x = np.random.rand(N)\n",
    "y = np.random.rand(N)\n",
    "colors = np.random.rand(N)\n",
    "area = np.pi * (15 * np.random.rand(N))**2  # 0 to 15 point radii\n",
    "\n",
    "plt.scatter(x, y, s=area, c=colors, alpha=0.5)\n",
    "plt.show()"
   ]
  },
  {
   "cell_type": "markdown",
   "metadata": {
    "slideshow": {
     "slide_type": "slide"
    }
   },
   "source": [
    "## IPython Magics\n",
    "\n",
    "You can think of these as extensions to Python designed to make interactive data analysis in environments like the notebook easier.\n",
    "\n",
    "If they refer to a single line, they begin with a `%` (the percent sign). If they refer to the entire cell, they begin with a `%%` (two percent signs)."
   ]
  },
  {
   "cell_type": "code",
   "execution_count": 3,
   "metadata": {
    "slideshow": {
     "slide_type": "slide"
    }
   },
   "outputs": [
    {
     "data": {
      "application/json": {
       "cell": {
        "!": "OSMagics",
        "HTML": "Other",
        "SVG": "Other",
        "bash": "Other",
        "capture": "ExecutionMagics",
        "debug": "ExecutionMagics",
        "file": "Other",
        "html": "DisplayMagics",
        "javascript": "DisplayMagics",
        "js": "DisplayMagics",
        "latex": "DisplayMagics",
        "markdown": "DisplayMagics",
        "perl": "Other",
        "prun": "ExecutionMagics",
        "pypy": "Other",
        "python": "Other",
        "python2": "Other",
        "python3": "Other",
        "ruby": "Other",
        "script": "ScriptMagics",
        "sh": "Other",
        "svg": "DisplayMagics",
        "sx": "OSMagics",
        "system": "OSMagics",
        "time": "ExecutionMagics",
        "timeit": "ExecutionMagics",
        "writefile": "OSMagics"
       },
       "line": {
        "alias": "OSMagics",
        "alias_magic": "BasicMagics",
        "autoawait": "AsyncMagics",
        "autocall": "AutoMagics",
        "automagic": "AutoMagics",
        "autosave": "KernelMagics",
        "bookmark": "OSMagics",
        "cat": "Other",
        "cd": "OSMagics",
        "clear": "KernelMagics",
        "colors": "BasicMagics",
        "conda": "PackagingMagics",
        "config": "ConfigMagics",
        "connect_info": "KernelMagics",
        "cp": "Other",
        "debug": "ExecutionMagics",
        "dhist": "OSMagics",
        "dirs": "OSMagics",
        "doctest_mode": "BasicMagics",
        "ed": "Other",
        "edit": "KernelMagics",
        "env": "OSMagics",
        "gui": "BasicMagics",
        "hist": "Other",
        "history": "HistoryMagics",
        "killbgscripts": "ScriptMagics",
        "ldir": "Other",
        "less": "KernelMagics",
        "lf": "Other",
        "lk": "Other",
        "ll": "Other",
        "load": "CodeMagics",
        "load_ext": "ExtensionMagics",
        "loadpy": "CodeMagics",
        "logoff": "LoggingMagics",
        "logon": "LoggingMagics",
        "logstart": "LoggingMagics",
        "logstate": "LoggingMagics",
        "logstop": "LoggingMagics",
        "ls": "Other",
        "lsmagic": "BasicMagics",
        "lx": "Other",
        "macro": "ExecutionMagics",
        "magic": "BasicMagics",
        "man": "KernelMagics",
        "matplotlib": "PylabMagics",
        "mkdir": "Other",
        "more": "KernelMagics",
        "mv": "Other",
        "notebook": "BasicMagics",
        "page": "BasicMagics",
        "pastebin": "CodeMagics",
        "pdb": "ExecutionMagics",
        "pdef": "NamespaceMagics",
        "pdoc": "NamespaceMagics",
        "pfile": "NamespaceMagics",
        "pinfo": "NamespaceMagics",
        "pinfo2": "NamespaceMagics",
        "pip": "PackagingMagics",
        "popd": "OSMagics",
        "pprint": "BasicMagics",
        "precision": "BasicMagics",
        "prun": "ExecutionMagics",
        "psearch": "NamespaceMagics",
        "psource": "NamespaceMagics",
        "pushd": "OSMagics",
        "pwd": "OSMagics",
        "pycat": "OSMagics",
        "pylab": "PylabMagics",
        "qtconsole": "KernelMagics",
        "quickref": "BasicMagics",
        "recall": "HistoryMagics",
        "rehashx": "OSMagics",
        "reload_ext": "ExtensionMagics",
        "rep": "Other",
        "rerun": "HistoryMagics",
        "reset": "NamespaceMagics",
        "reset_selective": "NamespaceMagics",
        "rm": "Other",
        "rmdir": "Other",
        "run": "ExecutionMagics",
        "save": "CodeMagics",
        "sc": "OSMagics",
        "set_env": "OSMagics",
        "store": "StoreMagics",
        "sx": "OSMagics",
        "system": "OSMagics",
        "tb": "ExecutionMagics",
        "time": "ExecutionMagics",
        "timeit": "ExecutionMagics",
        "unalias": "OSMagics",
        "unload_ext": "ExtensionMagics",
        "who": "NamespaceMagics",
        "who_ls": "NamespaceMagics",
        "whos": "NamespaceMagics",
        "xdel": "NamespaceMagics",
        "xmode": "BasicMagics"
       }
      },
      "text/plain": [
       "Available line magics:\n",
       "%alias  %alias_magic  %autoawait  %autocall  %automagic  %autosave  %bookmark  %cat  %cd  %clear  %colors  %conda  %config  %connect_info  %cp  %debug  %dhist  %dirs  %doctest_mode  %ed  %edit  %env  %gui  %hist  %history  %killbgscripts  %ldir  %less  %lf  %lk  %ll  %load  %load_ext  %loadpy  %logoff  %logon  %logstart  %logstate  %logstop  %ls  %lsmagic  %lx  %macro  %magic  %man  %matplotlib  %mkdir  %more  %mv  %notebook  %page  %pastebin  %pdb  %pdef  %pdoc  %pfile  %pinfo  %pinfo2  %pip  %popd  %pprint  %precision  %prun  %psearch  %psource  %pushd  %pwd  %pycat  %pylab  %qtconsole  %quickref  %recall  %rehashx  %reload_ext  %rep  %rerun  %reset  %reset_selective  %rm  %rmdir  %run  %save  %sc  %set_env  %store  %sx  %system  %tb  %time  %timeit  %unalias  %unload_ext  %who  %who_ls  %whos  %xdel  %xmode\n",
       "\n",
       "Available cell magics:\n",
       "%%!  %%HTML  %%SVG  %%bash  %%capture  %%debug  %%file  %%html  %%javascript  %%js  %%latex  %%markdown  %%perl  %%prun  %%pypy  %%python  %%python2  %%python3  %%ruby  %%script  %%sh  %%svg  %%sx  %%system  %%time  %%timeit  %%writefile\n",
       "\n",
       "Automagic is ON, % prefix IS NOT needed for line magics."
      ]
     },
     "execution_count": 3,
     "metadata": {},
     "output_type": "execute_result"
    }
   ],
   "source": [
    "# Listing all magic commands\n",
    "\n",
    "%lsmagic"
   ]
  },
  {
   "cell_type": "markdown",
   "metadata": {
    "slideshow": {
     "slide_type": "slide"
    }
   },
   "source": [
    "Getting help by appending a `?` works for the magics as well."
   ]
  },
  {
   "cell_type": "code",
   "execution_count": 4,
   "metadata": {},
   "outputs": [
    {
     "data": {
      "text/plain": [
       "\u001b[0;31mDocstring:\u001b[0m List currently available magic functions.\n",
       "\u001b[0;31mFile:\u001b[0m      /opt/conda/lib/python3.9/site-packages/IPython/core/magics/basic.py\n"
      ]
     },
     "metadata": {},
     "output_type": "display_data"
    }
   ],
   "source": [
    "%lsmagic?"
   ]
  },
  {
   "cell_type": "markdown",
   "metadata": {},
   "source": [
    "## Useful Magics: `%time` - Time execution of a Python statement or expression\n",
    "\n",
    "By prefixing an expression with `%timeit`, you can measure how long it takes to execute."
   ]
  },
  {
   "cell_type": "code",
   "execution_count": 5,
   "metadata": {},
   "outputs": [
    {
     "name": "stdout",
     "output_type": "stream",
     "text": [
      "499999500000\n",
      "CPU times: user 72.1 ms, sys: 0 ns, total: 72.1 ms\n",
      "Wall time: 72 ms\n"
     ]
    }
   ],
   "source": [
    "%%time\n",
    "\n",
    "s = 0\n",
    "for x in range(1_000_000):\n",
    "    s += x\n",
    "print(s)"
   ]
  },
  {
   "cell_type": "markdown",
   "metadata": {
    "slideshow": {
     "slide_type": "slide"
    },
    "tags": []
   },
   "source": [
    "## Useful Magics: `%timeit` - benchmark a Python statement or expression\n",
    "\n",
    "Jupyter will run any code prefixed with `%timeit` sufficient number of times to (more) precisely figure out how long it takes to run."
   ]
  },
  {
   "cell_type": "code",
   "execution_count": 6,
   "metadata": {
    "tags": []
   },
   "outputs": [
    {
     "name": "stdout",
     "output_type": "stream",
     "text": [
      "9.87 ns ± 0.391 ns per loop (mean ± std. dev. of 7 runs, 100,000,000 loops each)\n"
     ]
    }
   ],
   "source": [
    "%timeit a = 1 + 1"
   ]
  },
  {
   "cell_type": "code",
   "execution_count": 7,
   "metadata": {},
   "outputs": [
    {
     "name": "stdout",
     "output_type": "stream",
     "text": [
      "55.8 µs ± 947 ns per loop (mean ± std. dev. of 7 runs, 10,000 loops each)\n"
     ]
    }
   ],
   "source": [
    "%%timeit\n",
    "\n",
    "# Example: Loops & lists vs. numpy\n",
    "x = range(1000)\n",
    "y = range(1000)\n",
    "z = [ x + y for x, y in zip(x, y) ]"
   ]
  },
  {
   "cell_type": "code",
   "execution_count": 8,
   "metadata": {},
   "outputs": [
    {
     "name": "stdout",
     "output_type": "stream",
     "text": [
      "2.51 µs ± 56.6 ns per loop (mean ± std. dev. of 7 runs, 100,000 loops each)\n"
     ]
    }
   ],
   "source": [
    "%%timeit\n",
    "\n",
    "# Example: Loops & lists vs. numpy\n",
    "x = np.arange(1000)\n",
    "y = np.arange(1000)\n",
    "z = x + y"
   ]
  },
  {
   "cell_type": "markdown",
   "metadata": {
    "slideshow": {
     "slide_type": "slide"
    }
   },
   "source": [
    "## Interacting with the shell: `!`\n",
    "\n",
    "Shell commands can be run within Jupyter notebooks by prefixing them with `!`."
   ]
  },
  {
   "cell_type": "code",
   "execution_count": 9,
   "metadata": {},
   "outputs": [
    {
     "name": "stdout",
     "output_type": "stream",
     "text": [
      "total 6956\n",
      "-rw-r--r-- 1 jovyan users 6762164 Jan 29 20:50 fieldA.csv\n",
      "-rw-r--r-- 1 jovyan users   95856 Jan 29 21:15 homework-02.ipynb\n",
      "-rw-r--r-- 1 jovyan users  252420 Jan 29 21:13 lecture-05-jupyter.ipynb\n",
      "drwxr-sr-x 2 jovyan users    4096 Jan 29 21:15 __pycache__\n",
      "-rw-r--r-- 1 jovyan users     938 Jan 29 21:15 visutils.py\n"
     ]
    }
   ],
   "source": [
    "! ls -l"
   ]
  },
  {
   "cell_type": "markdown",
   "metadata": {
    "slideshow": {
     "slide_type": "slide"
    }
   },
   "source": [
    "You can also capture their output."
   ]
  },
  {
   "cell_type": "code",
   "execution_count": 10,
   "metadata": {},
   "outputs": [
    {
     "data": {
      "text/plain": [
       "['-rw-r--r-- 1 jovyan users 6762164 Jan 29 20:50 fieldA.csv']"
      ]
     },
     "execution_count": 10,
     "metadata": {},
     "output_type": "execute_result"
    }
   ],
   "source": [
    "theFile = 'fieldA.csv'\n",
    "files = ! ls -l {theFile}\n",
    "files"
   ]
  },
  {
   "cell_type": "markdown",
   "metadata": {
    "slideshow": {
     "slide_type": "slide"
    }
   },
   "source": [
    "Shell calls can also [_interpolate_](https://en.wikipedia.org/wiki/String_interpolation) Python expressions, if you surround them in curly brackets, `{}`. Example:"
   ]
  },
  {
   "cell_type": "code",
   "execution_count": 11,
   "metadata": {},
   "outputs": [
    {
     "name": "stdout",
     "output_type": "stream",
     "text": [
      "Here is the contents of Python variable dest_dir: '/'\n",
      "And here is the output of 'ls /':\n",
      "'['\t\t\t      nice\n",
      " 2to3-2.7\t\t      nisdomainname\n",
      " addpart\t\t      nl\n",
      " addr2line\t\t      nm\n",
      " afm2pl\t\t\t      nohup\n",
      " afm2tfm\t\t      nproc\n",
      " aleph\t\t\t      nsenter\n",
      " allec\t\t\t      numfmt\n",
      " apt\t\t\t      objcopy\n",
      " apt-cache\t\t      objdump\n",
      " apt-cdrom\t\t      od\n",
      " apt-config\t\t      odvicopy\n",
      " apt-get\t\t      odvitype\n",
      " apt-key\t\t      ofm2opl\n",
      " apt-mark\t\t      omfonts\n",
      " ar\t\t\t      openssl\n",
      " arch\t\t\t      opl2ofm\n",
      " as\t\t\t      otangle\n",
      " authorindex\t\t      otp2ocp\n",
      " autosp\t\t\t      outocp\n",
      " awk\t\t\t      ovf2ovp\n",
      " axohelp\t\t      ovp2ovf\n",
      " b2sum\t\t\t      pager\n",
      " base32\t\t\t      pandoc\n",
      " base64\t\t\t      paperconf\n",
      " basename\t\t      partx\n",
      " bash\t\t\t      passwd\n",
      " bashbug\t\t      paste\n",
      " bibtex\t\t\t      patch\n",
      " bibtex8\t\t      patgen\n",
      " bibtex.original\t      pathchk\n",
      " bibtexu\t\t      pbibtex\n",
      " browse\t\t\t      pdb2\n",
      " bunzip2\t\t      pdb2.7\n",
      " bzcat\t\t\t      pdb3\n",
      " bzcmp\t\t\t      pdb3.8\n",
      " bzdiff\t\t\t      pdf2dsc\n",
      " bzegrep\t\t      pdf2ps\n",
      " bzexe\t\t\t      pdfannotextractor\n",
      " bzfgrep\t\t      pdfatfi\n",
      " bzgrep\t\t\t      pdfclose\n",
      " bzip2\t\t\t      pdfetex\n",
      " bzip2recover\t\t      pdflatex\n",
      " bzless\t\t\t      pdflatex-dev\n",
      " bzmore\t\t\t      pdfopen\n",
      " c++\t\t\t      pdftex\n",
      " c89\t\t\t      pdftosrc\n",
      " c89-gcc\t\t      pdvitomp\n",
      " c99\t\t\t      pdvitype\n",
      " c99-gcc\t\t      perl\n",
      " cachepic\t\t      perl5.30.0\n",
      " captoinfo\t\t      perl5.30-x86_64-linux-gnu\n",
      " cat\t\t\t      perlbug\n",
      " catchsegv\t\t      perldoc\n",
      " cautious-launcher\t      perlivp\n",
      " cc\t\t\t      perltex\n",
      " c++filt\t\t      perlthanks\n",
      " chage\t\t\t      pf2afm\n",
      " chattr\t\t\t      pfb2pfa\n",
      " chcon\t\t\t      pfb2t1c\n",
      " chfn\t\t\t      pfbtopfa\n",
      " chgrp\t\t\t      pgrep\n",
      " chkdvifont\t\t      piconv\n",
      " chmod\t\t\t      pidof\n",
      " choom\t\t\t      ping\n",
      " chown\t\t\t      ping6\n",
      " chrt\t\t\t      pinky\n",
      " chsh\t\t\t      pk2bm\n",
      " cksum\t\t\t      pkill\n",
      " clear\t\t\t      pktogf\n",
      " clear_console\t\t      pktype\n",
      " cmp\t\t\t      pl2pm\n",
      " comm\t\t\t      pldd\n",
      " compose\t\t      pltotf\n",
      " corelist\t\t      pmap\n",
      " cp\t\t\t      pmpost\n",
      " cpan\t\t\t      pmxab\n",
      " cpan5.30-x86_64-linux-gnu    pn2pdf\n",
      " cpp\t\t\t      pod2html\n",
      " cpp-9\t\t\t      pod2man\n",
      " c_rehash\t\t      pod2text\n",
      " csplit\t\t\t      pod2usage\n",
      " ctags\t\t\t      podchecker\n",
      " ctags.emacs\t\t      podselect\n",
      " ctangle\t\t      pooltype\n",
      " ctie\t\t\t      pphs\n",
      " ctwill\t\t\t      ppltotf\n",
      " ctwill-refsort\t\t      pr\n",
      " ctwill-twinx\t\t      prepmx\n",
      " cut\t\t\t      print\n",
      " cvtsudoers\t\t      printafm\n",
      " cweave\t\t\t      printenv\n",
      " dash\t\t\t      printf\n",
      " date\t\t\t      prlimit\n",
      " dd\t\t\t      prove\n",
      " debconf\t\t      ps\n",
      " debconf-apt-progress\t      ps2ascii\n",
      " debconf-communicate\t      ps2epsi\n",
      " debconf-copydb\t\t      ps2pdf\n",
      " debconf-escape\t\t      ps2pdf12\n",
      " debconf-set-selections       ps2pdf13\n",
      " debconf-show\t\t      ps2pdf14\n",
      " deb-systemd-helper\t      ps2pdfwr\n",
      " deb-systemd-invoke\t      ps2pk\n",
      " delpart\t\t      ps2ps\n",
      " detex\t\t\t      ps2ps2\n",
      " devnag\t\t\t      ps2txt\n",
      " df\t\t\t      ptar\n",
      " dh_installtex\t\t      ptardiff\n",
      " dh_python2\t\t      ptargrep\n",
      " diff\t\t\t      ptex\n",
      " diff3\t\t\t      ptftopl\n",
      " dir\t\t\t      ptx\n",
      " dircolors\t\t      pwd\n",
      " dirname\t\t      pwdx\n",
      " disdvi\t\t\t      py3clean\n",
      " dmesg\t\t\t      py3compile\n",
      " dnsdomainname\t\t      py3versions\n",
      " domainname\t\t      pyclean\n",
      " dpkg\t\t\t      pycompile\n",
      " dpkg-architecture\t      pydoc2\n",
      " dpkg-buildflags\t      pydoc2.7\n",
      " dpkg-buildpackage\t      pydoc3\n",
      " dpkg-checkbuilddeps\t      pydoc3.8\n",
      " dpkg-deb\t\t      pygettext2\n",
      " dpkg-distaddfile\t      pygettext2.7\n",
      " dpkg-divert\t\t      pygettext3\n",
      " dpkg-genbuildinfo\t      pygettext3.8\n",
      " dpkg-genchanges\t      python2\n",
      " dpkg-gencontrol\t      python2.7\n",
      " dpkg-gensymbols\t      python3\n",
      " dpkg-maintscript-helper      python3.8\n",
      " dpkg-mergechangelogs\t      pyversions\n",
      " dpkg-name\t\t      qt-faststart\n",
      " dpkg-parsechangelog\t      ranlib\n",
      " dpkg-query\t\t      rbash\n",
      " dpkg-scanpackages\t      rcp\n",
      " dpkg-scansources\t      readelf\n",
      " dpkg-shlibdeps\t\t      readlink\n",
      " dpkg-source\t\t      realpath\n",
      " dpkg-split\t\t      rename.ul\n",
      " dpkg-statoverride\t      renice\n",
      " dpkg-trigger\t\t      reset\n",
      " dpkg-vendor\t\t      resizepart\n",
      " dt2dv\t\t\t      rev\n",
      " du\t\t\t      rgrep\n",
      " dv2dt\t\t\t      rjoe\n",
      " dvi2tty\t\t      rlogin\n",
      " dvibook\t\t      rm\n",
      " dviconcat\t\t      rmdir\n",
      " dvicopy\t\t      r-mpost\n",
      " dvigif\t\t\t      rpcgen\n",
      " dvihp\t\t\t      r-pmpost\n",
      " dvilj\t\t\t      rsh\n",
      " dvilj2p\t\t      runcon\n",
      " dvilj4\t\t\t      rungs\n",
      " dvilj4l\t\t      run-mailcap\n",
      " dvilj6\t\t\t      run-one\n",
      " dvilualatex\t\t      run-one-constantly\n",
      " dvilualatex-dev\t      run-one-until-failure\n",
      " dviluatex\t\t      run-one-until-success\n",
      " dvipdf\t\t\t      run-parts\n",
      " dvipdfm\t\t      run-this-one\n",
      " dvipdfmx\t\t      r-upmpost\n",
      " dvipdft\t\t      rview\n",
      " dvipng\t\t\t      rvim\n",
      " dvipos\t\t\t      savelog\n",
      " dvips\t\t\t      scor2prt\n",
      " dviselect\t\t      scp\n",
      " dvispc\t\t\t      script\n",
      " dvitodvi\t\t      scriptreplay\n",
      " dvitomp\t\t      sdiff\n",
      " dvitype\t\t      sed\n",
      " dwp\t\t\t      see\n",
      " ebb\t\t\t      select-default-iwrap\n",
      " ebrowse\t\t      select-editor\n",
      " ebrowse.emacs\t\t      sensible-browser\n",
      " echo\t\t\t      sensible-editor\n",
      " edit\t\t\t      sensible-pager\n",
      " editor\t\t\t      seq\n",
      " egrep\t\t\t      setarch\n",
      " elfedit\t\t      setpriv\n",
      " emacs\t\t\t      setsid\n",
      " emacsclient\t\t      setterm\n",
      " emacsclient.emacs\t      sfconv\n",
      " emacs-nox\t\t      sftp\n",
      " enc2xs\t\t\t      sg\n",
      " encguess\t\t      sh\n",
      " env\t\t\t      sha1sum\n",
      " eps2eps\t\t      sha224sum\n",
      " epspdf\t\t\t      sha256sum\n",
      " epspdftk\t\t      sha384sum\n",
      " eptex\t\t\t      sha512sum\n",
      " etags\t\t\t      shasum\n",
      " etags.emacs\t\t      shred\n",
      " etex\t\t\t      shuf\n",
      " euptex\t\t\t      simpdftex\n",
      " ex\t\t\t      size\n",
      " exceltex\t\t      skill\n",
      " expand\t\t\t      slabtop\n",
      " expiry\t\t\t      sleep\n",
      " expr\t\t\t      slogin\n",
      " extractbb\t\t      snice\n",
      " factor\t\t\t      sort\n",
      " faillog\t\t      sotruss\n",
      " fallocate\t\t      splain\n",
      " false\t\t\t      split\n",
      " fc-cache\t\t      splitindex\n",
      " fc-cat\t\t\t      sprof\n",
      " fc-conflist\t\t      ssh\n",
      " fc-list\t\t      ssh-add\n",
      " fc-match\t\t      ssh-agent\n",
      " fc-pattern\t\t      ssh-argv0\n",
      " fc-query\t\t      ssh-copy-id\n",
      " fc-scan\t\t      ssh-keygen\n",
      " fc-validate\t\t      ssh-keyscan\n",
      " ffmpeg\t\t\t      stat\n",
      " ffplay\t\t\t      stdbuf\n",
      " ffprobe\t\t      strings\n",
      " fgrep\t\t\t      strip\n",
      " fig4latex\t\t      stty\n",
      " fincore\t\t      su\n",
      " find\t\t\t      sudo\n",
      " findmnt\t\t      sudoedit\n",
      " flock\t\t\t      sudoreplay\n",
      " fmt\t\t\t      sum\n",
      " fmtutil\t\t      svn-multi\n",
      " fmtutil-sys\t\t      sync\n",
      " fmtutil-user\t\t      synctex\n",
      " fold\t\t\t      t1ascii\n",
      " free\t\t\t      t1asm\n",
      " funzip\t\t\t      t1binary\n",
      " g++\t\t\t      t1c2pfb\n",
      " g++-9\t\t\t      t1disasm\n",
      " gcc\t\t\t      t1mac\n",
      " gcc-9\t\t\t      t1unmac\n",
      " gcc-ar\t\t\t      t4ht\n",
      " gcc-ar-9\t\t      tabs\n",
      " gcc-nm\t\t\t      tac\n",
      " gcc-nm-9\t\t      tail\n",
      " gcc-ranlib\t\t      tangle\n",
      " gcc-ranlib-9\t\t      tar\n",
      " gcov\t\t\t      taskset\n",
      " gcov-9\t\t\t      teckit_compile\n",
      " gcov-dump\t\t      tee\n",
      " gcov-dump-9\t\t      telnet\n",
      " gcov-tool\t\t      telnet.netkit\n",
      " gcov-tool-9\t\t      tempfile\n",
      " gencat\t\t\t      test\n",
      " getconf\t\t      tex\n",
      " getent\t\t\t      tex2aspc\n",
      " getmapdl\t\t      tex4ht\n",
      " getopt\t\t\t      texdoc\n",
      " gftodvi\t\t      texdoctk\n",
      " gftopk\t\t\t      texhash\n",
      " gftype\t\t\t      texlua\n",
      " ghostscript\t\t      texluac\n",
      " ginstall-info\t\t      texluajit\n",
      " git\t\t\t      texluajitc\n",
      " git-receive-pack\t      tftopl\n",
      " git-shell\t\t      thumbpdf\n",
      " git-upload-archive\t      tic\n",
      " git-upload-pack\t      tie\n",
      " gold\t\t\t      timeout\n",
      " gpasswd\t\t      tini\n",
      " gpgv\t\t\t      tini-static\n",
      " gprof\t\t\t      tlmgr\n",
      " gregorio\t\t      tload\n",
      " grep\t\t\t      tl-paper\n",
      " groups\t\t\t      toe\n",
      " gs\t\t\t      top\n",
      " gsbj\t\t\t      touch\n",
      " gsdj\t\t\t      tpic2pdftex\n",
      " gsdj500\t\t      tput\n",
      " gsftopk\t\t      tr\n",
      " gslj\t\t\t      true\n",
      " gslp\t\t\t      truncate\n",
      " gsnd\t\t\t      tset\n",
      " gtk-update-icon-cache\t      tsort\n",
      " gunzip\t\t\t      ttf2afm\n",
      " gzexe\t\t\t      ttf2pk\n",
      " gzip\t\t\t      ttf2tfm\n",
      " h2ph\t\t\t      ttfdump\n",
      " h2xs\t\t\t      tty\n",
      " head\t\t\t      txtconv\n",
      " helpztags\t\t      tzselect\n",
      " hostid\t\t\t      ucf\n",
      " hostname\t\t      ucfq\n",
      " ht\t\t\t      ucfr\n",
      " htcontext\t\t      umount\n",
      " htlatex\t\t      uname\n",
      " htmex\t\t\t      uncompress\n",
      " httex\t\t\t      unexpand\n",
      " httexi\t\t\t      uniq\n",
      " htxelatex\t\t      unlink\n",
      " htxetex\t\t      unlzma\n",
      " i386\t\t\t      unshare\n",
      " iconv\t\t\t      unxz\n",
      " id\t\t\t      unzip\n",
      " infocmp\t\t      unzipsfx\n",
      " infotocap\t\t      upbibtex\n",
      " inimf\t\t\t      update-alternatives\n",
      " initex\t\t\t      update-mime-database\n",
      " inkscape\t\t      updmap\n",
      " inkview\t\t      updmap-sys\n",
      " install\t\t      updmap-user\n",
      " install-info\t\t      updvitomp\n",
      " instmodsh\t\t      updvitype\n",
      " ionice\t\t\t      upmendex\n",
      " ipcmk\t\t\t      upmpost\n",
      " ipcrm\t\t\t      uppltotf\n",
      " ipcs\t\t\t      uptex\n",
      " ischroot\t\t      uptftopl\n",
      " ispell-wrapper\t\t      uptime\n",
      " jmacs\t\t\t      users\n",
      " joe\t\t\t      utmpdump\n",
      " join\t\t\t      vdir\n",
      " jpico\t\t\t      vftovp\n",
      " json_pp\t\t      vi\n",
      " jstar\t\t\t      view\n",
      " keep-one-running\t      vim\n",
      " kill\t\t\t      vim.basic\n",
      " kpseaccess\t\t      vimdiff\n",
      " kpsepath\t\t      vim.tiny\n",
      " kpsereadlink\t\t      vimtutor\n",
      " kpsestat\t\t      vlna\n",
      " kpsewhich\t\t      vmstat\n",
      " kpsexpand\t\t      vpe\n",
      " l3build\t\t      vptovf\n",
      " last\t\t\t      w\n",
      " lastb\t\t\t      wall\n",
      " lastlog\t\t      watch\n",
      " latex\t\t\t      wc\n",
      " latex-dev\t\t      wdctl\n",
      " latex-wordcount\t      weave\n",
      " lcf\t\t\t      webquiz\n",
      " ld\t\t\t      wget\n",
      " ld.bfd\t\t\t      whereis\n",
      " ldd\t\t\t      which\n",
      " ld.gold\t\t      who\n",
      " less\t\t\t      whoami\n",
      " lessecho\t\t      wofm2opl\n",
      " lessfile\t\t      wopl2ofm\n",
      " lesskey\t\t      wovf2ovp\n",
      " lesspipe\t\t      wovp2ovf\n",
      " libnetcfg\t\t      w.procps\n",
      " link\t\t\t      X11\n",
      " linux32\t\t      x86_64\n",
      " linux64\t\t      x86_64-linux-gnu-addr2line\n",
      " ln\t\t\t      x86_64-linux-gnu-ar\n",
      " locale\t\t\t      x86_64-linux-gnu-as\n",
      " locale-check\t\t      x86_64-linux-gnu-c++filt\n",
      " localedef\t\t      x86_64-linux-gnu-cpp\n",
      " logger\t\t\t      x86_64-linux-gnu-cpp-9\n",
      " login\t\t\t      x86_64-linux-gnu-dwp\n",
      " logname\t\t      x86_64-linux-gnu-elfedit\n",
      " ls\t\t\t      x86_64-linux-gnu-g++\n",
      " lsattr\t\t\t      x86_64-linux-gnu-g++-9\n",
      " lsblk\t\t\t      x86_64-linux-gnu-gcc\n",
      " lscpu\t\t\t      x86_64-linux-gnu-gcc-9\n",
      " lsipc\t\t\t      x86_64-linux-gnu-gcc-ar\n",
      " lslocks\t\t      x86_64-linux-gnu-gcc-ar-9\n",
      " lslogins\t\t      x86_64-linux-gnu-gcc-nm\n",
      " lsmem\t\t\t      x86_64-linux-gnu-gcc-nm-9\n",
      " lsns\t\t\t      x86_64-linux-gnu-gcc-ranlib\n",
      " luajittex\t\t      x86_64-linux-gnu-gcc-ranlib-9\n",
      " lualatex\t\t      x86_64-linux-gnu-gcov\n",
      " lualatex-dev\t\t      x86_64-linux-gnu-gcov-9\n",
      " luatex\t\t\t      x86_64-linux-gnu-gcov-dump\n",
      " lwarpmk\t\t      x86_64-linux-gnu-gcov-dump-9\n",
      " lzcat\t\t\t      x86_64-linux-gnu-gcov-tool\n",
      " lzcmp\t\t\t      x86_64-linux-gnu-gcov-tool-9\n",
      " lzdiff\t\t\t      x86_64-linux-gnu-gold\n",
      " lzegrep\t\t      x86_64-linux-gnu-gprof\n",
      " lzfgrep\t\t      x86_64-linux-gnu-ld\n",
      " lzgrep\t\t\t      x86_64-linux-gnu-ld.bfd\n",
      " lzless\t\t\t      x86_64-linux-gnu-ld.gold\n",
      " lzma\t\t\t      x86_64-linux-gnu-nm\n",
      " lzmainfo\t\t      x86_64-linux-gnu-objcopy\n",
      " lzmore\t\t\t      x86_64-linux-gnu-objdump\n",
      " mag\t\t\t      x86_64-linux-gnu-ranlib\n",
      " make\t\t\t      x86_64-linux-gnu-readelf\n",
      " makedtx\t\t      x86_64-linux-gnu-size\n",
      " make-first-existing-target   x86_64-linux-gnu-strings\n",
      " makeglossaries\t\t      x86_64-linux-gnu-strip\n",
      " makeglossaries-lite\t      xargs\n",
      " makeindex\t\t      xdg-desktop-icon\n",
      " makejvf\t\t      xdg-desktop-menu\n",
      " man\t\t\t      xdg-email\n",
      " mathspic\t\t      xdg-icon-resource\n",
      " mawk\t\t\t      xdg-mime\n",
      " mcookie\t\t      xdg-open\n",
      " md5sum\t\t\t      xdg-screensaver\n",
      " md5sum.textutils\t      xdg-settings\n",
      " mendex\t\t\t      xdvi\n",
      " mesg\t\t\t      xdvi.bin\n",
      " mf\t\t\t      xdvipdfmx\n",
      " mflua\t\t\t      xdvi-xaw\n",
      " mfluajit\t\t      xelatex\n",
      " mfluajit-nowin\t\t      xelatex-dev\n",
      " mflua-nowin\t\t      xetex\n",
      " mf-nowin\t\t      xhlatex\n",
      " mfplain\t\t      xsubpp\n",
      " mft\t\t\t      xxd\n",
      " mk4ht\t\t\t      xz\n",
      " mkdir\t\t\t      xzcat\n",
      " mkfifo\t\t\t      xzcmp\n",
      " mkindex\t\t      xzdiff\n",
      " mknod\t\t\t      xzegrep\n",
      " mkocp\t\t\t      xzfgrep\n",
      " mkofm\t\t\t      xzgrep\n",
      " mkpic\t\t\t      xzless\n",
      " mktemp\t\t\t      xzmore\n",
      " mktexfmt\t\t      yes\n",
      " mktexlsr\t\t      ypdomainname\n",
      " mktexmf\t\t      yplan\n",
      " mktexpk\t\t      zcat\n",
      " mktextfm\t\t      zcmp\n",
      " more\t\t\t      zdiff\n",
      " mount\t\t\t      zdump\n",
      " mountpoint\t\t      zegrep\n",
      " mpost\t\t\t      zfgrep\n",
      " mptopdf\t\t      zforce\n",
      " msxlint\t\t      zgrep\n",
      " mtrace\t\t\t      zipdetails\n",
      " mv\t\t\t      zipgrep\n",
      " namei\t\t\t      zipinfo\n",
      " nano\t\t\t      zless\n",
      " nano-tiny\t\t      zmore\n",
      " nawk\t\t\t      znew\n",
      " newgrp\n"
     ]
    }
   ],
   "source": [
    "dest_dir = '/'\n",
    "! echo \"Here is the contents of Python variable dest_dir: '{dest_dir}'\"\n",
    "! echo \"And here is the output of 'ls {dest_dir}':\"\n",
    "! ls {dest_dir + '/bin'}"
   ]
  },
  {
   "cell_type": "markdown",
   "metadata": {
    "slideshow": {
     "slide_type": "slide"
    }
   },
   "source": [
    "Being able to call the shell is a tremendously useful capability, especially when running exploratory analyses and working with non-python programs that you need to call!\n",
    "\n",
    "Disadvantages:\n",
    "* **IPython-specific**: Only works in Jupyter/IPython. If you build functions depending on shell calls, and wish to move them into a module, you'll need to rewrite them using Python primitives.\n",
    "* **Not Cross-Platform**: Makes your code less portable (e.g., can't run it on native Windows if you use Linux-specific shell commands)"
   ]
  },
  {
   "cell_type": "markdown",
   "metadata": {
    "slideshow": {
     "slide_type": "slide"
    }
   },
   "source": [
    "Also: note that Jupyter has a full-blown terminal emulator! Go to 'File > Open', and then 'New > Terminal'. There's no need to use '!' as a replacement for a terminal.\n",
    "\n",
    "The built-in terminal emulator is extremely useful when you're running Jupyter notebooks _remotely_ (more on that in a few weeks)."
   ]
  },
  {
   "cell_type": "markdown",
   "metadata": {
    "slideshow": {
     "slide_type": "slide"
    }
   },
   "source": [
    "## Using LaTeX\n",
    "\n",
    "You can use LaTeX formulae in Markdown cells by enclosing them in `$` (inline in the text) or `$$` (as a separate equation). Example:"
   ]
  },
  {
   "cell_type": "markdown",
   "metadata": {},
   "source": [
    "Pythagora's theorem says that $ c = \\sqrt{a^2 + b^2} $.\n",
    "\n",
    "Our favorite inference theorem can be written as:\n",
    "\n",
    "$$ P(A \\mid B) = \\frac{P(B \\mid A) P(A)}{P(B)} $$\n"
   ]
  },
  {
   "cell_type": "markdown",
   "metadata": {
    "slideshow": {
     "slide_type": "slide"
    }
   },
   "source": [
    "You can also mark the whole cell as containing LaTeX, using the `%%latex` magic:"
   ]
  },
  {
   "cell_type": "code",
   "execution_count": 12,
   "metadata": {
    "slideshow": {
     "slide_type": "-"
    }
   },
   "outputs": [
    {
     "data": {
      "text/latex": [
       "\n",
       "The cross-product formula:\n",
       "\n",
       "\\begin{equation*}\n",
       "\\mathbf{V}_1 \\times \\mathbf{V}_2 =  \\begin{vmatrix}\n",
       "\\mathbf{i} & \\mathbf{j} & \\mathbf{k} \\\\\n",
       "\\frac{\\partial X}{\\partial u} &  \\frac{\\partial Y}{\\partial u} & 0 \\\\\n",
       "\\frac{\\partial X}{\\partial v} &  \\frac{\\partial Y}{\\partial v} & 0\n",
       "\\end{vmatrix}\n",
       "\\end{equation*}\n"
      ],
      "text/plain": [
       "<IPython.core.display.Latex object>"
      ]
     },
     "metadata": {},
     "output_type": "display_data"
    }
   ],
   "source": [
    "%%latex\n",
    "\n",
    "The cross-product formula:\n",
    "\n",
    "\\begin{equation*}\n",
    "\\mathbf{V}_1 \\times \\mathbf{V}_2 =  \\begin{vmatrix}\n",
    "\\mathbf{i} & \\mathbf{j} & \\mathbf{k} \\\\\n",
    "\\frac{\\partial X}{\\partial u} &  \\frac{\\partial Y}{\\partial u} & 0 \\\\\n",
    "\\frac{\\partial X}{\\partial v} &  \\frac{\\partial Y}{\\partial v} & 0\n",
    "\\end{vmatrix}\n",
    "\\end{equation*}"
   ]
  },
  {
   "cell_type": "markdown",
   "metadata": {},
   "source": [
    "Note: This can only render a [subset](https://docs.mathjax.org/en/v2.5-latest/tex.html) of LaTeX implemented in MathJAX."
   ]
  },
  {
   "cell_type": "markdown",
   "metadata": {
    "slideshow": {
     "slide_type": "slide"
    }
   },
   "source": [
    "There are many, *many*, ***many***, more useful IPython magics and various tricks; I just cherry-picked a few to show you. Take a look at:\n",
    "\n",
    "https://www.dataquest.io/blog/jupyter-notebook-tips-tricks-shortcuts/\n",
    "\n",
    "for a very nice list (with examples!)."
   ]
  },
  {
   "cell_type": "markdown",
   "metadata": {
    "slideshow": {
     "slide_type": "slide"
    }
   },
   "source": [
    "## Jupyter Widgets: Enabling Interactive Data Analysis\n",
    "\n",
    "Jupyter widgets enable interactive data visualization in the Jupyter notebooks.\n",
    "\n",
    "* http://jupyter.org/widgets\n",
    "* http://ipywidgets.readthedocs.io/en/stable/examples/Using%20Interact.html"
   ]
  },
  {
   "cell_type": "markdown",
   "metadata": {
    "slideshow": {
     "slide_type": "slide"
    }
   },
   "source": [
    "### The problem\n",
    "\n",
    "Quite often we would like to explore how a function (or a dataset) looks like under varying conditions (e.g., change one parameter, or change some aspect of the visualization).\n",
    "\n",
    "Given what we know so far, we would do that by chaning a parameter and re-evaluating the cell:"
   ]
  },
  {
   "cell_type": "code",
   "execution_count": 13,
   "metadata": {},
   "outputs": [
    {
     "data": {
      "text/plain": [
       "80"
      ]
     },
     "execution_count": 13,
     "metadata": {},
     "output_type": "execute_result"
    }
   ],
   "source": [
    "def f(x):\n",
    "    return 2*x\n",
    "\n",
    "f(40)"
   ]
  },
  {
   "cell_type": "markdown",
   "metadata": {},
   "source": [
    "That's tedious. Despair not, for there ***is*** a better way!"
   ]
  },
  {
   "cell_type": "markdown",
   "metadata": {
    "slideshow": {
     "slide_type": "slide"
    }
   },
   "source": [
    "### Introducing IPython Widgets\n",
    "\n",
    "Documentation: http://ipywidgets.readthedocs.io/en/stable/examples/Using%20Interact.html"
   ]
  },
  {
   "cell_type": "code",
   "execution_count": 14,
   "metadata": {
    "scrolled": true
   },
   "outputs": [
    {
     "data": {
      "application/vnd.jupyter.widget-view+json": {
       "model_id": "b7433ebcdfc14fbea4257c20242093ba",
       "version_major": 2,
       "version_minor": 0
      },
      "text/plain": [
       "interactive(children=(IntSlider(value=10, description='x', max=30, min=-10), Output()), _dom_classes=('widget-…"
      ]
     },
     "metadata": {},
     "output_type": "display_data"
    }
   ],
   "source": [
    "from ipywidgets import interact\n",
    "\n",
    "interact(f, x=10);"
   ]
  },
  {
   "cell_type": "markdown",
   "metadata": {
    "slideshow": {
     "slide_type": "slide"
    },
    "tags": []
   },
   "source": [
    "### Multiple arguments"
   ]
  },
  {
   "cell_type": "code",
   "execution_count": 15,
   "metadata": {
    "slideshow": {
     "slide_type": "-"
    }
   },
   "outputs": [
    {
     "data": {
      "application/vnd.jupyter.widget-view+json": {
       "model_id": "c23b5afae93449949e13fcbcaefd4120",
       "version_major": 2,
       "version_minor": 0
      },
      "text/plain": [
       "interactive(children=(IntSlider(value=10, description='x', max=30, min=-10), IntSlider(value=10, description='…"
      ]
     },
     "metadata": {},
     "output_type": "display_data"
    }
   ],
   "source": [
    "def g(x, y):\n",
    "    return \"The result of {}*{} is {}\".format(x, y, x*y)\n",
    "\n",
    "interact(g, x=10, y=10);"
   ]
  },
  {
   "cell_type": "markdown",
   "metadata": {
    "slideshow": {
     "slide_type": "slide"
    }
   },
   "source": [
    "### A more interesting example: Interactive Plotting"
   ]
  },
  {
   "cell_type": "code",
   "execution_count": 21,
   "metadata": {
    "slideshow": {
     "slide_type": "-"
    }
   },
   "outputs": [],
   "source": [
    "# Code snippet from https://matplotlib.org/examples/pylab_examples/contour_demo.html\n",
    "import numpy as np\n",
    "%matplotlib inline\n",
    "\n",
    "def bivariate_normal(X, Y, sigmax=1.0, sigmay=1.0,\n",
    "                     mux=0.0, muy=0.0, sigmaxy=0.0):\n",
    "    \"\"\"\n",
    "    Bivariate Gaussian distribution for equal shape *X*, *Y*.\n",
    "    See `bivariate normal\n",
    "    <http://mathworld.wolfram.com/BivariateNormalDistribution.html>`_\n",
    "    at mathworld.\n",
    "    \"\"\"\n",
    "    Xmu = X-mux\n",
    "    Ymu = Y-muy\n",
    "\n",
    "    rho = sigmaxy/(sigmax*sigmay)\n",
    "    z = Xmu**2/sigmax**2 + Ymu**2/sigmay**2 - 2*rho*Xmu*Ymu/(sigmax*sigmay)\n",
    "    denom = 2*np.pi*sigmax*sigmay*np.sqrt(1-rho**2)\n",
    "    return np.exp(-z/(2*(1-rho**2))) / denom\n",
    "\n",
    "def double_gauss(mu1_x=0, mu1_y=0, mu2_x=0, mu2_y=0):\n",
    "    import matplotlib\n",
    "    import numpy as np\n",
    "    import matplotlib.pyplot as plt\n",
    "\n",
    "    matplotlib.rcParams['xtick.direction'] = 'out'\n",
    "    matplotlib.rcParams['ytick.direction'] = 'out'\n",
    "\n",
    "    delta = 0.025\n",
    "    x = np.arange(-3.0, 3.0, delta)\n",
    "    y = np.arange(-2.0, 2.0, delta)\n",
    "    X, Y = np.meshgrid(x, y)\n",
    "    Z1 = bivariate_normal(X, Y, 1.0, 1.0, mu1_x, mu1_y)\n",
    "    Z2 = bivariate_normal(X, Y, 1.5, 0.5, mu2_x, mu2_y)\n",
    "    # difference of Gaussians\n",
    "    Z = 10.0 * (Z2 - Z1)\n",
    "\n",
    "    # Create a simple contour plot with labels using default colors.  The\n",
    "    # inline argument to clabel will control whether the labels are draw\n",
    "    # over the line segments of the contour, removing the lines beneath\n",
    "    # the label\n",
    "    plt.figure()\n",
    "    CS = plt.contour(X, Y, Z)\n",
    "    plt.clabel(CS, inline=1, fontsize=10)\n",
    "    plt.title('Simplest default with labels')"
   ]
  },
  {
   "cell_type": "code",
   "execution_count": 22,
   "metadata": {
    "slideshow": {
     "slide_type": "slide"
    }
   },
   "outputs": [
    {
     "data": {
      "image/png": "[encoded data removed]",
      "text/plain": [
       "<Figure size 432x288 with 1 Axes>"
      ]
     },
     "metadata": {
      "needs_background": "light"
     },
     "output_type": "display_data"
    }
   ],
   "source": [
    "double_gauss()"
   ]
  },
  {
   "cell_type": "markdown",
   "metadata": {
    "slideshow": {
     "slide_type": "slide"
    }
   },
   "source": [
    "### Interactive visualiation"
   ]
  },
  {
   "cell_type": "code",
   "execution_count": 23,
   "metadata": {
    "slideshow": {
     "slide_type": "-"
    }
   },
   "outputs": [
    {
     "data": {
      "application/vnd.jupyter.widget-view+json": {
       "model_id": "c293352d55584a83814ddfc004b12433",
       "version_major": 2,
       "version_minor": 0
      },
      "text/plain": [
       "interactive(children=(FloatSlider(value=0.0, description='mu1_x', max=3.0, min=-3.0), FloatSlider(value=0.0, d…"
      ]
     },
     "metadata": {},
     "output_type": "display_data"
    }
   ],
   "source": [
    "interact(double_gauss, mu1_x=(-3, 3, 0.1), mu1_y=(-3, 3, 0.1), mu2_x=(-3, 3, .1), mu2_y=(-3, 3, .1));"
   ]
  },
  {
   "cell_type": "code",
   "execution_count": 24,
   "metadata": {},
   "outputs": [
    {
     "data": {
      "application/vnd.jupyter.widget-view+json": {
       "model_id": "b71d590d36d64e45b22587f85f5101d8",
       "version_major": 2,
       "version_minor": 0
      },
      "text/plain": [
       "interactive(children=(FloatSlider(value=0.0, continuous_update=False, description='mu1_x', max=3.0, min=-3.0),…"
      ]
     },
     "metadata": {},
     "output_type": "display_data"
    }
   ],
   "source": [
    "from ipywidgets import FloatSlider\n",
    "\n",
    "def FS(min, max, step):\n",
    "    return FloatSlider(min=min, max=max, step=step, continuous_update=False)\n",
    "\n",
    "interact(double_gauss, mu1_x=FS(-3, 3, 0.1), mu1_y=FS(-3, 3, 0.1), mu2_x=FS(-3, 3, .1), mu2_y=FS(-3, 3, .1));"
   ]
  },
  {
   "cell_type": "markdown",
   "metadata": {
    "slideshow": {
     "slide_type": "slide"
    }
   },
   "source": [
    "### What if we want to fix one argument?\n",
    "\n",
    "Wrap it in `ipytidgets.fixed()`, as follows:"
   ]
  },
  {
   "cell_type": "code",
   "execution_count": 25,
   "metadata": {},
   "outputs": [
    {
     "data": {
      "application/vnd.jupyter.widget-view+json": {
       "model_id": "2a58bc89eece450a94bc996e15aa885f",
       "version_major": 2,
       "version_minor": 0
      },
      "text/plain": [
       "interactive(children=(IntSlider(value=10, description='x', max=30, min=-10), Output()), _dom_classes=('widget-…"
      ]
     },
     "metadata": {},
     "output_type": "display_data"
    }
   ],
   "source": [
    "from ipywidgets import interact, fixed\n",
    "\n",
    "def g(x, y):\n",
    "    return x*y\n",
    "\n",
    "interact(g, x=10, y=fixed(10));"
   ]
  },
  {
   "cell_type": "markdown",
   "metadata": {
    "slideshow": {
     "slide_type": "slide"
    }
   },
   "source": [
    "### Further reading\n",
    "\n",
    "These are just the simplest widgets you could construct; for more, see the [complete user guide](http://ipywidgets.readthedocs.io/en/stable/examples/Using%20Interact.html). Another excellent place to start is the [Jupyter Widgets Tutorial](https://github.com/jupyter-widgets/tutorial).\n",
    "\n",
    "To further wet your appetite, look at the widgets available at http://jupyter.org/widgets."
   ]
  }
 ],
 "metadata": {
  "celltoolbar": "Slideshow",
  "kernelspec": {
   "display_name": "Python 3 (ipykernel)",
   "language": "python",
   "name": "python3"
  },
  "language_info": {
   "codemirror_mode": {
    "name": "ipython",
    "version": 3
   },
   "file_extension": ".py",
   "mimetype": "text/x-python",
   "name": "python",
   "nbconvert_exporter": "python",
   "pygments_lexer": "ipython3",
   "version": "3.9.10"
  },
  "livereveal": {
   "scroll": true,
   "start_slideshow_at": "selected"
  },
  "widgets": {
   "application/vnd.jupyter.widget-state+json": {
    "state": {
     "0a285f98150d4033900fcb45876a6086": {
      "model_module": "jupyter-leaflet",
      "model_module_version": "~0.5.1",
      "model_name": "LeafletMapModel",
      "state": {
       "_dom_classes": [],
       "_east": -122.30872035026552,
       "_model_module_version": "~0.5.1",
       "_north": 47.65442522300612,
       "_south": 47.65297981286661,
       "_view_count": null,
       "_view_module_version": "~0.5.1",
       "_west": -122.31400966644287,
       "basemap": {
        "attribution": "Map data (c) <a href=\"https://openstreetmap.org\">OpenStreetMap</a> contributors",
        "max_zoom": 19,
        "url": "https://{s}.tile.openstreetmap.org/{z}/{x}/{y}.png"
       },
       "center": [
        47.65370252293736,
        -122.3113650083542
       ],
       "default_tiles": "IPY_MODEL_f6e1962745034c2cb5748f2bef287fb9",
       "layers": [
        "IPY_MODEL_f6e1962745034c2cb5748f2bef287fb9"
       ],
       "layout": "IPY_MODEL_eb1e0d70e7f74c36bc1634ac5bce617f",
       "modisdate": "yesterday",
       "options": [
        "attribution_control",
        "basemap",
        "bounce_at_zoom_limits",
        "box_zoom",
        "center",
        "close_popup_on_click",
        "double_click_zoom",
        "dragging",
        "inertia",
        "inertia_deceleration",
        "inertia_max_speed",
        "keyboard",
        "keyboard_pan_offset",
        "keyboard_zoom_offset",
        "max_zoom",
        "min_zoom",
        "scroll_wheel_zoom",
        "tap",
        "tap_tolerance",
        "touch_zoom",
        "world_copy_jump",
        "zoom",
        "zoom_animation_threshold",
        "zoom_control",
        "zoom_start"
       ],
       "zoom": 50
      }
     },
     "194a8dfb2e4345bab376cbace71a6c1b": {
      "model_module": "jupyter-leaflet",
      "model_module_version": "~0.5.1",
      "model_name": "LeafletTileLayerModel",
      "state": {
       "_model_module_version": "~0.5.1",
       "_view_count": null,
       "_view_module_version": "~0.5.1",
       "max_zoom": 19,
       "min_zoom": 1,
       "options": [
        "attribution",
        "detect_retina",
        "max_zoom",
        "min_zoom",
        "opacity",
        "tile_size"
       ]
      }
     },
     "5335b45961e140ddb778d1003268a44c": {
      "model_module": "ipyvolume",
      "model_module_version": "~0.4.2",
      "model_name": "FigureModel",
      "state": {
       "data_max": 0,
       "data_min": 0,
       "height": 500,
       "layout": "IPY_MODEL_a0b02d48f6534e10a9938ad3b538379f",
       "matrix_projection": [
        3.017766952966369,
        0,
        0,
        0,
        0,
        2.414213562373095,
        0,
        0,
        0,
        0,
        -1.000002000002,
        -1,
        0,
        0,
        -0.02000002000002,
        0
       ],
       "matrix_world": [
        0.0277382734658338,
        0,
        0,
        0,
        0,
        0.0277382734658338,
        0,
        0,
        0,
        0,
        0.0277382734658338,
        0,
        0.04577756870430527,
        -0.05654755719463189,
        -2.2836662782875736,
        1
       ],
       "meshes": [
        "IPY_MODEL_55e2504cd6454569a2e3860299a7dbf1"
       ],
       "scatters": [],
       "tf": null,
       "volume_data": null,
       "width": 400,
       "xlim": [
        -19.675974763770302,
        16.37529573912293
       ],
       "ylim": [
        -15.987023970745113,
        20.06424653214812
       ],
       "zlim": [
        -18.025635251446616,
        18.025635251446616
       ]
      }
     },
     "55e2504cd6454569a2e3860299a7dbf1": {
      "buffers": [
       {
        "data": "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",
        "encoding": "base64",
        "path": [
         "triangles",
         0,
         "buffer"
        ]
       },
       {
        "data": "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",
        "encoding": "base64",
        "path": [
         "x",
         0,
         "buffer"
        ]
       },
       {
        "data": "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",
        "encoding": "base64",
        "path": [
         "y",
         0,
         "buffer"
        ]
       },
       {
        "data": "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",
        "encoding": "base64",
        "path": [
         "z",
         0,
         "buffer"
        ]
       }
      ],
      "model_module": "ipyvolume",
      "model_module_version": "~0.4.2",
      "model_name": "MeshModel",
      "state": {
       "_dom_classes": [],
       "layout": "IPY_MODEL_8fe804b5fef54d288f4cc2a5d7192de2",
       "lines": null,
       "side": "both",
       "texture": null,
       "triangles": [
        {
         "buffer": {},
         "dtype": "uint32",
         "shape": [
          3042,
          3
         ]
        }
       ],
       "u": null,
       "v": null,
       "x": [
        {
         "buffer": {},
         "dtype": "float32",
         "shape": [
          1600
         ]
        }
       ],
       "y": [
        {
         "buffer": {},
         "dtype": "float32",
         "shape": [
          1600
         ]
        }
       ],
       "z": [
        {
         "buffer": {},
         "dtype": "float32",
         "shape": [
          1600
         ]
        }
       ]
      }
     },
     "69766f129d1e4acab59172773cd83a89": {
      "model_module": "@jupyter-widgets/base",
      "model_module_version": "1.0.0",
      "model_name": "LayoutModel",
      "state": {
       "align_self": "stretch",
       "height": "400px"
      }
     },
     "6ae3c5514e2b4a9ca5581e62dea9f458": {
      "model_module": "@jupyter-widgets/controls",
      "model_module_version": "1.0.0",
      "model_name": "VBoxModel",
      "state": {
       "children": [
        "IPY_MODEL_5335b45961e140ddb778d1003268a44c"
       ],
       "layout": "IPY_MODEL_c28a772741c74eea88f7ef2524457800"
      }
     },
     "6bc3b05453ec4280b56840cb3c609ee8": {
      "model_module": "jupyter-leaflet",
      "model_module_version": "~0.5.1",
      "model_name": "LeafletMapModel",
      "state": {
       "_dom_classes": [],
       "_east": -122.30872035026552,
       "_model_module_version": "~0.5.1",
       "_north": 47.65442522300612,
       "_south": 47.65297981286661,
       "_view_count": null,
       "_view_module_version": "~0.5.1",
       "_west": -122.31400966644287,
       "basemap": {
        "attribution": "Map data (c) <a href=\"https://openstreetmap.org\">OpenStreetMap</a> contributors",
        "max_zoom": 19,
        "url": "https://{s}.tile.openstreetmap.org/{z}/{x}/{y}.png"
       },
       "center": [
        47.65370252293736,
        -122.3113650083542
       ],
       "default_tiles": "IPY_MODEL_98635d91b07b4ac9b2744ed4acd6036a",
       "layers": [
        "IPY_MODEL_98635d91b07b4ac9b2744ed4acd6036a"
       ],
       "layout": "IPY_MODEL_9850a175a1794d00abd5a12920073079",
       "modisdate": "yesterday",
       "options": [
        "attribution_control",
        "basemap",
        "bounce_at_zoom_limits",
        "box_zoom",
        "center",
        "close_popup_on_click",
        "double_click_zoom",
        "dragging",
        "inertia",
        "inertia_deceleration",
        "inertia_max_speed",
        "keyboard",
        "keyboard_pan_offset",
        "keyboard_zoom_offset",
        "max_zoom",
        "min_zoom",
        "scroll_wheel_zoom",
        "tap",
        "tap_tolerance",
        "touch_zoom",
        "world_copy_jump",
        "zoom",
        "zoom_animation_threshold",
        "zoom_control",
        "zoom_start"
       ],
       "zoom": 30
      }
     },
     "71992d9863874b5291c70eb2031c2063": {
      "model_module": "@jupyter-widgets/base",
      "model_module_version": "1.0.0",
      "model_name": "LayoutModel",
      "state": {
       "align_self": "stretch",
       "height": "400px"
      }
     },
     "8fe804b5fef54d288f4cc2a5d7192de2": {
      "model_module": "@jupyter-widgets/base",
      "model_module_version": "1.0.0",
      "model_name": "LayoutModel",
      "state": {}
     },
     "9850a175a1794d00abd5a12920073079": {
      "model_module": "@jupyter-widgets/base",
      "model_module_version": "1.0.0",
      "model_name": "LayoutModel",
      "state": {
       "align_self": "stretch",
       "height": "400px"
      }
     },
     "98635d91b07b4ac9b2744ed4acd6036a": {
      "model_module": "jupyter-leaflet",
      "model_module_version": "~0.5.1",
      "model_name": "LeafletTileLayerModel",
      "state": {
       "_model_module_version": "~0.5.1",
       "_view_count": null,
       "_view_module_version": "~0.5.1",
       "max_zoom": 19,
       "min_zoom": 1,
       "options": [
        "attribution",
        "detect_retina",
        "max_zoom",
        "min_zoom",
        "opacity",
        "tile_size"
       ]
      }
     },
     "a0b02d48f6534e10a9938ad3b538379f": {
      "model_module": "@jupyter-widgets/base",
      "model_module_version": "1.0.0",
      "model_name": "LayoutModel",
      "state": {}
     },
     "a3e049ad19ad4b568cdcceac4ad859e6": {
      "model_module": "@jupyter-widgets/base",
      "model_module_version": "1.0.0",
      "model_name": "LayoutModel",
      "state": {
       "align_self": "stretch",
       "height": "400px"
      }
     },
     "a84512349d4c49ff80b336a711b02e75": {
      "model_module": "jupyter-leaflet",
      "model_module_version": "~0.5.1",
      "model_name": "LeafletTileLayerModel",
      "state": {
       "_model_module_version": "~0.5.1",
       "_view_count": null,
       "_view_module_version": "~0.5.1",
       "max_zoom": 19,
       "min_zoom": 1,
       "options": [
        "attribution",
        "detect_retina",
        "max_zoom",
        "min_zoom",
        "opacity",
        "tile_size"
       ]
      }
     },
     "ab5348bb9d7546d4bbf7fb5575e74002": {
      "model_module": "jupyter-leaflet",
      "model_module_version": "~0.5.1",
      "model_name": "LeafletTileLayerModel",
      "state": {
       "_model_module_version": "~0.5.1",
       "_view_count": null,
       "_view_module_version": "~0.5.1",
       "max_zoom": 19,
       "min_zoom": 1,
       "options": [
        "attribution",
        "detect_retina",
        "max_zoom",
        "min_zoom",
        "opacity",
        "tile_size"
       ]
      }
     },
     "bcfed30b1e744fb9b05f720432d84632": {
      "model_module": "jupyter-leaflet",
      "model_module_version": "~0.5.1",
      "model_name": "LeafletMapModel",
      "state": {
       "_dom_classes": [],
       "_east": -76.64749145507814,
       "_model_module_version": "~0.5.1",
       "_north": 34.89944783005726,
       "_south": 34.447688696497444,
       "_view_count": null,
       "_view_module_version": "~0.5.1",
       "_west": -78.00155639648439,
       "basemap": {
        "attribution": "Map data (c) <a href=\"https://openstreetmap.org\">OpenStreetMap</a> contributors",
        "max_zoom": 19,
        "url": "https://{s}.tile.openstreetmap.org/{z}/{x}/{y}.png"
       },
       "center": [
        34.67387626588273,
        -77.32452392578126
       ],
       "default_tiles": "IPY_MODEL_ab5348bb9d7546d4bbf7fb5575e74002",
       "layers": [
        "IPY_MODEL_ab5348bb9d7546d4bbf7fb5575e74002"
       ],
       "layout": "IPY_MODEL_71992d9863874b5291c70eb2031c2063",
       "modisdate": "yesterday",
       "options": [
        "attribution_control",
        "basemap",
        "bounce_at_zoom_limits",
        "box_zoom",
        "center",
        "close_popup_on_click",
        "double_click_zoom",
        "dragging",
        "inertia",
        "inertia_deceleration",
        "inertia_max_speed",
        "keyboard",
        "keyboard_pan_offset",
        "keyboard_zoom_offset",
        "max_zoom",
        "min_zoom",
        "scroll_wheel_zoom",
        "tap",
        "tap_tolerance",
        "touch_zoom",
        "world_copy_jump",
        "zoom",
        "zoom_animation_threshold",
        "zoom_control",
        "zoom_start"
       ],
       "zoom": 10
      }
     },
     "c28a772741c74eea88f7ef2524457800": {
      "model_module": "@jupyter-widgets/base",
      "model_module_version": "1.0.0",
      "model_name": "LayoutModel",
      "state": {}
     },
     "eb1e0d70e7f74c36bc1634ac5bce617f": {
      "model_module": "@jupyter-widgets/base",
      "model_module_version": "1.0.0",
      "model_name": "LayoutModel",
      "state": {
       "align_self": "stretch",
       "height": "400px"
      }
     },
     "f05344fb69b7457cb8e228bc7593c541": {
      "model_module": "jupyter-leaflet",
      "model_module_version": "~0.5.1",
      "model_name": "LeafletMapModel",
      "state": {
       "_dom_classes": [],
       "_east": -121.63375854492189,
       "_model_module_version": "~0.5.1",
       "_north": 47.83804887261066,
       "_south": 47.46802133894551,
       "_view_count": null,
       "_view_module_version": "~0.5.1",
       "_west": -122.98782348632814,
       "basemap": {
        "attribution": "Map data (c) <a href=\"https://openstreetmap.org\">OpenStreetMap</a> contributors",
        "max_zoom": 19,
        "url": "https://{s}.tile.openstreetmap.org/{z}/{x}/{y}.png"
       },
       "center": [
        47.65336285044984,
        -122.31079101562501
       ],
       "default_tiles": "IPY_MODEL_194a8dfb2e4345bab376cbace71a6c1b",
       "layers": [
        "IPY_MODEL_194a8dfb2e4345bab376cbace71a6c1b"
       ],
       "layout": "IPY_MODEL_a3e049ad19ad4b568cdcceac4ad859e6",
       "modisdate": "yesterday",
       "options": [
        "attribution_control",
        "basemap",
        "bounce_at_zoom_limits",
        "box_zoom",
        "center",
        "close_popup_on_click",
        "double_click_zoom",
        "dragging",
        "inertia",
        "inertia_deceleration",
        "inertia_max_speed",
        "keyboard",
        "keyboard_pan_offset",
        "keyboard_zoom_offset",
        "max_zoom",
        "min_zoom",
        "scroll_wheel_zoom",
        "tap",
        "tap_tolerance",
        "touch_zoom",
        "world_copy_jump",
        "zoom",
        "zoom_animation_threshold",
        "zoom_control",
        "zoom_start"
       ],
       "zoom": 10
      }
     },
     "f6e1962745034c2cb5748f2bef287fb9": {
      "model_module": "jupyter-leaflet",
      "model_module_version": "~0.5.1",
      "model_name": "LeafletTileLayerModel",
      "state": {
       "_model_module_version": "~0.5.1",
       "_view_count": null,
       "_view_module_version": "~0.5.1",
       "max_zoom": 19,
       "min_zoom": 1,
       "options": [
        "attribution",
        "detect_retina",
        "max_zoom",
        "min_zoom",
        "opacity",
        "tile_size"
       ]
      }
     },
     "ffa1c8453b6546cbb8968658be97096e": {
      "model_module": "jupyter-leaflet",
      "model_module_version": "~0.5.1",
      "model_name": "LeafletMapModel",
      "state": {
       "_dom_classes": [],
       "_east": -122.30872035026552,
       "_model_module_version": "~0.5.1",
       "_north": 47.65442522300612,
       "_south": 47.65297981286661,
       "_view_count": null,
       "_view_module_version": "~0.5.1",
       "_west": -122.31400966644287,
       "basemap": {
        "attribution": "Map data (c) <a href=\"https://openstreetmap.org\">OpenStreetMap</a> contributors",
        "max_zoom": 19,
        "url": "https://{s}.tile.openstreetmap.org/{z}/{x}/{y}.png"
       },
       "center": [
        47.65370252293736,
        -122.3113650083542
       ],
       "default_tiles": "IPY_MODEL_a84512349d4c49ff80b336a711b02e75",
       "layers": [
        "IPY_MODEL_a84512349d4c49ff80b336a711b02e75"
       ],
       "layout": "IPY_MODEL_69766f129d1e4acab59172773cd83a89",
       "modisdate": "yesterday",
       "options": [
        "attribution_control",
        "basemap",
        "bounce_at_zoom_limits",
        "box_zoom",
        "center",
        "close_popup_on_click",
        "double_click_zoom",
        "dragging",
        "inertia",
        "inertia_deceleration",
        "inertia_max_speed",
        "keyboard",
        "keyboard_pan_offset",
        "keyboard_zoom_offset",
        "max_zoom",
        "min_zoom",
        "scroll_wheel_zoom",
        "tap",
        "tap_tolerance",
        "touch_zoom",
        "world_copy_jump",
        "zoom",
        "zoom_animation_threshold",
        "zoom_control",
        "zoom_start"
       ],
       "zoom": 20
      }
     }
    },
    "version_major": 2,
    "version_minor": 0
   }
  }
 },
 "nbformat": 4,
 "nbformat_minor": 4
}
